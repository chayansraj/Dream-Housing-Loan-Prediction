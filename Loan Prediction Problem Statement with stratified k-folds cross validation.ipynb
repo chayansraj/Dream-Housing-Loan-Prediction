{
 "cells": [
  {
   "cell_type": "markdown",
   "metadata": {},
   "source": [
    "## Dream Housing Finance company deals in all home loans. They have presence across all urban, semi urban and rural areas. Customer first apply for home loan after that company validates the customer eligibility for loan. Company wants to automate the loan eligibility process (real time) based on customer detail provided while filling online application form. These details are Gender, Marital Status, Education Number of Dependents, Income, Loan Amount, Credit History and others. To automate this process, they have given a problem to identify the customers segments, those are eligible for loan amount so that they can specifically target these customers."
   ]
  },
  {
   "cell_type": "markdown",
   "metadata": {},
   "source": [
    "### It is a classification problem where we have to predict whether a loan would be approved or not. In Classification problem, we have to predict discrete values based on a given set of independent variable(s), Classification can be of two types:\n",
    "\n",
    "### • Binary Classification: In this classification we have to predict either of the two given classes. For example: classifying the gender as male or female predicting the result as win or loss, etc\n",
    "### • Multiclass Classification: Here we have to classify the data into three or more classes. For example: classifying a movie's genre as comedy action or romantic classify fruits as oranges, apples, or pears, etc.\n",
    "### Loan prediction is a very common real-life problem that each retail bank faces atleast once in its lifetime. If done correctly. it can save a lot of man hours at the end of a retail bank.\n",
    "\n",
    "### Although this course is specifically built to give you a walkthrough of Loan Prediction problem, you can always refer the content to get a comprehensive overview to solve a classification problem"
   ]
  },
  {
   "cell_type": "code",
   "execution_count": 1,
   "metadata": {},
   "outputs": [],
   "source": [
    "import numpy as np\n",
    "import pandas as pd\n",
    "import seaborn as sns\n",
    "import matplotlib.pyplot as plt\n",
    "%matplotlib inline"
   ]
  },
  {
   "cell_type": "code",
   "execution_count": 2,
   "metadata": {},
   "outputs": [],
   "source": [
    "train_original = pd.read_csv('../train_ctrUa4K.csv')\n",
    "test_original = pd.read_csv('../test_lAUu6dG.csv')"
   ]
  },
  {
   "cell_type": "code",
   "execution_count": 3,
   "metadata": {},
   "outputs": [],
   "source": [
    "train = train_original.copy()\n",
    "test = test_original.copy()"
   ]
  },
  {
   "cell_type": "code",
   "execution_count": 4,
   "metadata": {},
   "outputs": [
    {
     "data": {
      "text/plain": [
       "Loan_ID               0\n",
       "Gender               13\n",
       "Married               3\n",
       "Dependents           15\n",
       "Education             0\n",
       "Self_Employed        32\n",
       "ApplicantIncome       0\n",
       "CoapplicantIncome     0\n",
       "LoanAmount           22\n",
       "Loan_Amount_Term     14\n",
       "Credit_History       50\n",
       "Property_Area         0\n",
       "Loan_Status           0\n",
       "dtype: int64"
      ]
     },
     "execution_count": 4,
     "metadata": {},
     "output_type": "execute_result"
    }
   ],
   "source": [
    "train.isnull().sum()"
   ]
  },
  {
   "cell_type": "code",
   "execution_count": 5,
   "metadata": {},
   "outputs": [
    {
     "data": {
      "text/html": [
       "<div>\n",
       "<style scoped>\n",
       "    .dataframe tbody tr th:only-of-type {\n",
       "        vertical-align: middle;\n",
       "    }\n",
       "\n",
       "    .dataframe tbody tr th {\n",
       "        vertical-align: top;\n",
       "    }\n",
       "\n",
       "    .dataframe thead th {\n",
       "        text-align: right;\n",
       "    }\n",
       "</style>\n",
       "<table border=\"1\" class=\"dataframe\">\n",
       "  <thead>\n",
       "    <tr style=\"text-align: right;\">\n",
       "      <th></th>\n",
       "      <th>ApplicantIncome</th>\n",
       "      <th>CoapplicantIncome</th>\n",
       "      <th>LoanAmount</th>\n",
       "      <th>Loan_Amount_Term</th>\n",
       "      <th>Credit_History</th>\n",
       "    </tr>\n",
       "  </thead>\n",
       "  <tbody>\n",
       "    <tr>\n",
       "      <th>count</th>\n",
       "      <td>614.000000</td>\n",
       "      <td>614.000000</td>\n",
       "      <td>592.000000</td>\n",
       "      <td>600.00000</td>\n",
       "      <td>564.000000</td>\n",
       "    </tr>\n",
       "    <tr>\n",
       "      <th>mean</th>\n",
       "      <td>5403.459283</td>\n",
       "      <td>1621.245798</td>\n",
       "      <td>146.412162</td>\n",
       "      <td>342.00000</td>\n",
       "      <td>0.842199</td>\n",
       "    </tr>\n",
       "    <tr>\n",
       "      <th>std</th>\n",
       "      <td>6109.041673</td>\n",
       "      <td>2926.248369</td>\n",
       "      <td>85.587325</td>\n",
       "      <td>65.12041</td>\n",
       "      <td>0.364878</td>\n",
       "    </tr>\n",
       "    <tr>\n",
       "      <th>min</th>\n",
       "      <td>150.000000</td>\n",
       "      <td>0.000000</td>\n",
       "      <td>9.000000</td>\n",
       "      <td>12.00000</td>\n",
       "      <td>0.000000</td>\n",
       "    </tr>\n",
       "    <tr>\n",
       "      <th>25%</th>\n",
       "      <td>2877.500000</td>\n",
       "      <td>0.000000</td>\n",
       "      <td>100.000000</td>\n",
       "      <td>360.00000</td>\n",
       "      <td>1.000000</td>\n",
       "    </tr>\n",
       "    <tr>\n",
       "      <th>50%</th>\n",
       "      <td>3812.500000</td>\n",
       "      <td>1188.500000</td>\n",
       "      <td>128.000000</td>\n",
       "      <td>360.00000</td>\n",
       "      <td>1.000000</td>\n",
       "    </tr>\n",
       "    <tr>\n",
       "      <th>75%</th>\n",
       "      <td>5795.000000</td>\n",
       "      <td>2297.250000</td>\n",
       "      <td>168.000000</td>\n",
       "      <td>360.00000</td>\n",
       "      <td>1.000000</td>\n",
       "    </tr>\n",
       "    <tr>\n",
       "      <th>max</th>\n",
       "      <td>81000.000000</td>\n",
       "      <td>41667.000000</td>\n",
       "      <td>700.000000</td>\n",
       "      <td>480.00000</td>\n",
       "      <td>1.000000</td>\n",
       "    </tr>\n",
       "  </tbody>\n",
       "</table>\n",
       "</div>"
      ],
      "text/plain": [
       "       ApplicantIncome  CoapplicantIncome  LoanAmount  Loan_Amount_Term  \\\n",
       "count       614.000000         614.000000  592.000000         600.00000   \n",
       "mean       5403.459283        1621.245798  146.412162         342.00000   \n",
       "std        6109.041673        2926.248369   85.587325          65.12041   \n",
       "min         150.000000           0.000000    9.000000          12.00000   \n",
       "25%        2877.500000           0.000000  100.000000         360.00000   \n",
       "50%        3812.500000        1188.500000  128.000000         360.00000   \n",
       "75%        5795.000000        2297.250000  168.000000         360.00000   \n",
       "max       81000.000000       41667.000000  700.000000         480.00000   \n",
       "\n",
       "       Credit_History  \n",
       "count      564.000000  \n",
       "mean         0.842199  \n",
       "std          0.364878  \n",
       "min          0.000000  \n",
       "25%          1.000000  \n",
       "50%          1.000000  \n",
       "75%          1.000000  \n",
       "max          1.000000  "
      ]
     },
     "execution_count": 5,
     "metadata": {},
     "output_type": "execute_result"
    }
   ],
   "source": [
    "train.describe()"
   ]
  },
  {
   "cell_type": "code",
   "execution_count": 6,
   "metadata": {},
   "outputs": [
    {
     "data": {
      "text/plain": [
       "Index(['Loan_ID', 'Gender', 'Married', 'Dependents', 'Education',\n",
       "       'Self_Employed', 'ApplicantIncome', 'CoapplicantIncome', 'LoanAmount',\n",
       "       'Loan_Amount_Term', 'Credit_History', 'Property_Area', 'Loan_Status'],\n",
       "      dtype='object')"
      ]
     },
     "execution_count": 6,
     "metadata": {},
     "output_type": "execute_result"
    }
   ],
   "source": [
    "train.columns"
   ]
  },
  {
   "cell_type": "code",
   "execution_count": 7,
   "metadata": {},
   "outputs": [
    {
     "data": {
      "text/plain": [
       "Index(['Loan_ID', 'Gender', 'Married', 'Dependents', 'Education',\n",
       "       'Self_Employed', 'ApplicantIncome', 'CoapplicantIncome', 'LoanAmount',\n",
       "       'Loan_Amount_Term', 'Credit_History', 'Property_Area'],\n",
       "      dtype='object')"
      ]
     },
     "execution_count": 7,
     "metadata": {},
     "output_type": "execute_result"
    }
   ],
   "source": [
    "test.columns"
   ]
  },
  {
   "cell_type": "code",
   "execution_count": 8,
   "metadata": {},
   "outputs": [
    {
     "data": {
      "text/plain": [
       "Loan_ID               object\n",
       "Gender                object\n",
       "Married               object\n",
       "Dependents            object\n",
       "Education             object\n",
       "Self_Employed         object\n",
       "ApplicantIncome        int64\n",
       "CoapplicantIncome    float64\n",
       "LoanAmount           float64\n",
       "Loan_Amount_Term     float64\n",
       "Credit_History       float64\n",
       "Property_Area         object\n",
       "Loan_Status           object\n",
       "dtype: object"
      ]
     },
     "execution_count": 8,
     "metadata": {},
     "output_type": "execute_result"
    }
   ],
   "source": [
    "train.dtypes"
   ]
  },
  {
   "cell_type": "code",
   "execution_count": 9,
   "metadata": {},
   "outputs": [
    {
     "data": {
      "text/plain": [
       "(614, 13)"
      ]
     },
     "execution_count": 9,
     "metadata": {},
     "output_type": "execute_result"
    }
   ],
   "source": [
    "train.shape"
   ]
  },
  {
   "cell_type": "code",
   "execution_count": 10,
   "metadata": {},
   "outputs": [
    {
     "data": {
      "text/plain": [
       "(367, 12)"
      ]
     },
     "execution_count": 10,
     "metadata": {},
     "output_type": "execute_result"
    }
   ],
   "source": [
    "test.shape"
   ]
  },
  {
   "cell_type": "code",
   "execution_count": 11,
   "metadata": {},
   "outputs": [
    {
     "data": {
      "text/plain": [
       "Y    422\n",
       "N    192\n",
       "Name: Loan_Status, dtype: int64"
      ]
     },
     "execution_count": 11,
     "metadata": {},
     "output_type": "execute_result"
    }
   ],
   "source": [
    "train['Loan_Status'].value_counts()"
   ]
  },
  {
   "cell_type": "code",
   "execution_count": 12,
   "metadata": {},
   "outputs": [
    {
     "data": {
      "text/plain": [
       "Y    0.687296\n",
       "N    0.312704\n",
       "Name: Loan_Status, dtype: float64"
      ]
     },
     "execution_count": 12,
     "metadata": {},
     "output_type": "execute_result"
    }
   ],
   "source": [
    "# Much better representation is in terms of proportion\n",
    "train['Loan_Status'].value_counts(normalize=True)"
   ]
  },
  {
   "cell_type": "markdown",
   "metadata": {},
   "source": [
    "# Univariate Analysis"
   ]
  },
  {
   "cell_type": "code",
   "execution_count": 13,
   "metadata": {},
   "outputs": [
    {
     "data": {
      "text/plain": [
       "<matplotlib.axes._subplots.AxesSubplot at 0x265bc377f88>"
      ]
     },
     "execution_count": 13,
     "metadata": {},
     "output_type": "execute_result"
    },
    {
     "data": {
      "image/png": "[encoded data removed]",
      "text/plain": [
       "<Figure size 432x288 with 1 Axes>"
      ]
     },
     "metadata": {
      "needs_background": "light"
     },
     "output_type": "display_data"
    }
   ],
   "source": [
    "train['Loan_Status'].value_counts().plot.bar()"
   ]
  },
  {
   "cell_type": "code",
   "execution_count": 14,
   "metadata": {},
   "outputs": [
    {
     "data": {
      "text/plain": [
       "<Figure size 720x720 with 0 Axes>"
      ]
     },
     "metadata": {},
     "output_type": "display_data"
    }
   ],
   "source": [
    "fig = plt.figure(figsize=(10,10))"
   ]
  },
  {
   "cell_type": "code",
   "execution_count": 15,
   "metadata": {},
   "outputs": [
    {
     "data": {
      "text/plain": [
       "<matplotlib.axes._subplots.AxesSubplot at 0x265c0bfc448>"
      ]
     },
     "execution_count": 15,
     "metadata": {},
     "output_type": "execute_result"
    },
    {
     "data": {
      "image/png": "[encoded data removed]",
      "text/plain": [
       "<Figure size 432x288 with 1 Axes>"
      ]
     },
     "metadata": {
      "needs_background": "light"
     },
     "output_type": "display_data"
    }
   ],
   "source": [
    "fig.subplots(221)\n",
    "train['Gender'].value_counts(normalize=True).plot.bar()"
   ]
  },
  {
   "cell_type": "code",
   "execution_count": 16,
   "metadata": {},
   "outputs": [
    {
     "data": {
      "text/plain": [
       "<matplotlib.axes._subplots.AxesSubplot at 0x265c4db4348>"
      ]
     },
     "execution_count": 16,
     "metadata": {},
     "output_type": "execute_result"
    },
    {
     "data": {
      "image/png": "[encoded data removed]",
      "text/plain": [
       "<Figure size 432x288 with 1 Axes>"
      ]
     },
     "metadata": {
      "needs_background": "light"
     },
     "output_type": "display_data"
    }
   ],
   "source": [
    "fig.subplots(222)\n",
    "train['Married'].value_counts(normalize=True).plot.bar()"
   ]
  },
  {
   "cell_type": "code",
   "execution_count": 17,
   "metadata": {},
   "outputs": [
    {
     "data": {
      "text/plain": [
       "<matplotlib.axes._subplots.AxesSubplot at 0x265c4e11a88>"
      ]
     },
     "execution_count": 17,
     "metadata": {},
     "output_type": "execute_result"
    },
    {
     "data": {
      "image/png": "[encoded data removed]",
      "text/plain": [
       "<Figure size 432x288 with 1 Axes>"
      ]
     },
     "metadata": {
      "needs_background": "light"
     },
     "output_type": "display_data"
    }
   ],
   "source": [
    "train['Self_Employed'].value_counts(normalize=True).plot.bar()"
   ]
  },
  {
   "cell_type": "code",
   "execution_count": 18,
   "metadata": {},
   "outputs": [
    {
     "data": {
      "text/plain": [
       "<matplotlib.axes._subplots.AxesSubplot at 0x265c4e80d08>"
      ]
     },
     "execution_count": 18,
     "metadata": {},
     "output_type": "execute_result"
    },
    {
     "data": {
      "image/png": "[encoded data removed]",
      "text/plain": [
       "<Figure size 432x288 with 1 Axes>"
      ]
     },
     "metadata": {
      "needs_background": "light"
     },
     "output_type": "display_data"
    }
   ],
   "source": [
    "train['Credit_History'].value_counts(normalize=True).plot.bar()"
   ]
  },
  {
   "cell_type": "code",
   "execution_count": 19,
   "metadata": {},
   "outputs": [
    {
     "data": {
      "text/html": [
       "<div>\n",
       "<style scoped>\n",
       "    .dataframe tbody tr th:only-of-type {\n",
       "        vertical-align: middle;\n",
       "    }\n",
       "\n",
       "    .dataframe tbody tr th {\n",
       "        vertical-align: top;\n",
       "    }\n",
       "\n",
       "    .dataframe thead th {\n",
       "        text-align: right;\n",
       "    }\n",
       "</style>\n",
       "<table border=\"1\" class=\"dataframe\">\n",
       "  <thead>\n",
       "    <tr style=\"text-align: right;\">\n",
       "      <th></th>\n",
       "      <th>Loan_ID</th>\n",
       "      <th>Gender</th>\n",
       "      <th>Married</th>\n",
       "      <th>Dependents</th>\n",
       "      <th>Education</th>\n",
       "      <th>Self_Employed</th>\n",
       "      <th>ApplicantIncome</th>\n",
       "      <th>CoapplicantIncome</th>\n",
       "      <th>LoanAmount</th>\n",
       "      <th>Loan_Amount_Term</th>\n",
       "      <th>Credit_History</th>\n",
       "      <th>Property_Area</th>\n",
       "      <th>Loan_Status</th>\n",
       "    </tr>\n",
       "  </thead>\n",
       "  <tbody>\n",
       "    <tr>\n",
       "      <th>0</th>\n",
       "      <td>LP001002</td>\n",
       "      <td>Male</td>\n",
       "      <td>No</td>\n",
       "      <td>0</td>\n",
       "      <td>Graduate</td>\n",
       "      <td>No</td>\n",
       "      <td>5849</td>\n",
       "      <td>0.0</td>\n",
       "      <td>NaN</td>\n",
       "      <td>360.0</td>\n",
       "      <td>1.0</td>\n",
       "      <td>Urban</td>\n",
       "      <td>Y</td>\n",
       "    </tr>\n",
       "    <tr>\n",
       "      <th>1</th>\n",
       "      <td>LP001003</td>\n",
       "      <td>Male</td>\n",
       "      <td>Yes</td>\n",
       "      <td>1</td>\n",
       "      <td>Graduate</td>\n",
       "      <td>No</td>\n",
       "      <td>4583</td>\n",
       "      <td>1508.0</td>\n",
       "      <td>128.0</td>\n",
       "      <td>360.0</td>\n",
       "      <td>1.0</td>\n",
       "      <td>Rural</td>\n",
       "      <td>N</td>\n",
       "    </tr>\n",
       "    <tr>\n",
       "      <th>2</th>\n",
       "      <td>LP001005</td>\n",
       "      <td>Male</td>\n",
       "      <td>Yes</td>\n",
       "      <td>0</td>\n",
       "      <td>Graduate</td>\n",
       "      <td>Yes</td>\n",
       "      <td>3000</td>\n",
       "      <td>0.0</td>\n",
       "      <td>66.0</td>\n",
       "      <td>360.0</td>\n",
       "      <td>1.0</td>\n",
       "      <td>Urban</td>\n",
       "      <td>Y</td>\n",
       "    </tr>\n",
       "    <tr>\n",
       "      <th>3</th>\n",
       "      <td>LP001006</td>\n",
       "      <td>Male</td>\n",
       "      <td>Yes</td>\n",
       "      <td>0</td>\n",
       "      <td>Not Graduate</td>\n",
       "      <td>No</td>\n",
       "      <td>2583</td>\n",
       "      <td>2358.0</td>\n",
       "      <td>120.0</td>\n",
       "      <td>360.0</td>\n",
       "      <td>1.0</td>\n",
       "      <td>Urban</td>\n",
       "      <td>Y</td>\n",
       "    </tr>\n",
       "    <tr>\n",
       "      <th>4</th>\n",
       "      <td>LP001008</td>\n",
       "      <td>Male</td>\n",
       "      <td>No</td>\n",
       "      <td>0</td>\n",
       "      <td>Graduate</td>\n",
       "      <td>No</td>\n",
       "      <td>6000</td>\n",
       "      <td>0.0</td>\n",
       "      <td>141.0</td>\n",
       "      <td>360.0</td>\n",
       "      <td>1.0</td>\n",
       "      <td>Urban</td>\n",
       "      <td>Y</td>\n",
       "    </tr>\n",
       "  </tbody>\n",
       "</table>\n",
       "</div>"
      ],
      "text/plain": [
       "    Loan_ID Gender Married Dependents     Education Self_Employed  \\\n",
       "0  LP001002   Male      No          0      Graduate            No   \n",
       "1  LP001003   Male     Yes          1      Graduate            No   \n",
       "2  LP001005   Male     Yes          0      Graduate           Yes   \n",
       "3  LP001006   Male     Yes          0  Not Graduate            No   \n",
       "4  LP001008   Male      No          0      Graduate            No   \n",
       "\n",
       "   ApplicantIncome  CoapplicantIncome  LoanAmount  Loan_Amount_Term  \\\n",
       "0             5849                0.0         NaN             360.0   \n",
       "1             4583             1508.0       128.0             360.0   \n",
       "2             3000                0.0        66.0             360.0   \n",
       "3             2583             2358.0       120.0             360.0   \n",
       "4             6000                0.0       141.0             360.0   \n",
       "\n",
       "   Credit_History Property_Area Loan_Status  \n",
       "0             1.0         Urban           Y  \n",
       "1             1.0         Rural           N  \n",
       "2             1.0         Urban           Y  \n",
       "3             1.0         Urban           Y  \n",
       "4             1.0         Urban           Y  "
      ]
     },
     "execution_count": 19,
     "metadata": {},
     "output_type": "execute_result"
    }
   ],
   "source": [
    "train.head()"
   ]
  },
  {
   "cell_type": "code",
   "execution_count": 20,
   "metadata": {},
   "outputs": [
    {
     "data": {
      "text/plain": [
       "<matplotlib.axes._subplots.AxesSubplot at 0x265c4ef5108>"
      ]
     },
     "execution_count": 20,
     "metadata": {},
     "output_type": "execute_result"
    },
    {
     "data": {
      "image/png": "[encoded data removed]",
      "text/plain": [
       "<Figure size 432x288 with 1 Axes>"
      ]
     },
     "metadata": {
      "needs_background": "light"
     },
     "output_type": "display_data"
    }
   ],
   "source": [
    "train['Dependents'].value_counts(normalize=True).plot.bar()"
   ]
  },
  {
   "cell_type": "code",
   "execution_count": 21,
   "metadata": {},
   "outputs": [
    {
     "data": {
      "text/plain": [
       "<matplotlib.axes._subplots.AxesSubplot at 0x265c4f60508>"
      ]
     },
     "execution_count": 21,
     "metadata": {},
     "output_type": "execute_result"
    },
    {
     "data": {
      "image/png": "[encoded data removed]",
      "text/plain": [
       "<Figure size 432x288 with 1 Axes>"
      ]
     },
     "metadata": {
      "needs_background": "light"
     },
     "output_type": "display_data"
    }
   ],
   "source": [
    "train['Education'].value_counts(normalize=True).plot.bar()"
   ]
  },
  {
   "cell_type": "code",
   "execution_count": 22,
   "metadata": {},
   "outputs": [
    {
     "data": {
      "text/plain": [
       "<matplotlib.axes._subplots.AxesSubplot at 0x265c4fda708>"
      ]
     },
     "execution_count": 22,
     "metadata": {},
     "output_type": "execute_result"
    },
    {
     "data": {
      "image/png": "[encoded data removed]",
      "text/plain": [
       "<Figure size 432x288 with 1 Axes>"
      ]
     },
     "metadata": {
      "needs_background": "light"
     },
     "output_type": "display_data"
    }
   ],
   "source": [
    "train['Property_Area'].value_counts(normalize=True).plot.bar()"
   ]
  },
  {
   "cell_type": "code",
   "execution_count": 23,
   "metadata": {},
   "outputs": [
    {
     "data": {
      "text/html": [
       "<div>\n",
       "<style scoped>\n",
       "    .dataframe tbody tr th:only-of-type {\n",
       "        vertical-align: middle;\n",
       "    }\n",
       "\n",
       "    .dataframe tbody tr th {\n",
       "        vertical-align: top;\n",
       "    }\n",
       "\n",
       "    .dataframe thead th {\n",
       "        text-align: right;\n",
       "    }\n",
       "</style>\n",
       "<table border=\"1\" class=\"dataframe\">\n",
       "  <thead>\n",
       "    <tr style=\"text-align: right;\">\n",
       "      <th></th>\n",
       "      <th>Loan_ID</th>\n",
       "      <th>Gender</th>\n",
       "      <th>Married</th>\n",
       "      <th>Dependents</th>\n",
       "      <th>Education</th>\n",
       "      <th>Self_Employed</th>\n",
       "      <th>ApplicantIncome</th>\n",
       "      <th>CoapplicantIncome</th>\n",
       "      <th>LoanAmount</th>\n",
       "      <th>Loan_Amount_Term</th>\n",
       "      <th>Credit_History</th>\n",
       "      <th>Property_Area</th>\n",
       "      <th>Loan_Status</th>\n",
       "    </tr>\n",
       "  </thead>\n",
       "  <tbody>\n",
       "    <tr>\n",
       "      <th>0</th>\n",
       "      <td>LP001002</td>\n",
       "      <td>Male</td>\n",
       "      <td>No</td>\n",
       "      <td>0</td>\n",
       "      <td>Graduate</td>\n",
       "      <td>No</td>\n",
       "      <td>5849</td>\n",
       "      <td>0.0</td>\n",
       "      <td>NaN</td>\n",
       "      <td>360.0</td>\n",
       "      <td>1.0</td>\n",
       "      <td>Urban</td>\n",
       "      <td>Y</td>\n",
       "    </tr>\n",
       "    <tr>\n",
       "      <th>1</th>\n",
       "      <td>LP001003</td>\n",
       "      <td>Male</td>\n",
       "      <td>Yes</td>\n",
       "      <td>1</td>\n",
       "      <td>Graduate</td>\n",
       "      <td>No</td>\n",
       "      <td>4583</td>\n",
       "      <td>1508.0</td>\n",
       "      <td>128.0</td>\n",
       "      <td>360.0</td>\n",
       "      <td>1.0</td>\n",
       "      <td>Rural</td>\n",
       "      <td>N</td>\n",
       "    </tr>\n",
       "    <tr>\n",
       "      <th>2</th>\n",
       "      <td>LP001005</td>\n",
       "      <td>Male</td>\n",
       "      <td>Yes</td>\n",
       "      <td>0</td>\n",
       "      <td>Graduate</td>\n",
       "      <td>Yes</td>\n",
       "      <td>3000</td>\n",
       "      <td>0.0</td>\n",
       "      <td>66.0</td>\n",
       "      <td>360.0</td>\n",
       "      <td>1.0</td>\n",
       "      <td>Urban</td>\n",
       "      <td>Y</td>\n",
       "    </tr>\n",
       "    <tr>\n",
       "      <th>3</th>\n",
       "      <td>LP001006</td>\n",
       "      <td>Male</td>\n",
       "      <td>Yes</td>\n",
       "      <td>0</td>\n",
       "      <td>Not Graduate</td>\n",
       "      <td>No</td>\n",
       "      <td>2583</td>\n",
       "      <td>2358.0</td>\n",
       "      <td>120.0</td>\n",
       "      <td>360.0</td>\n",
       "      <td>1.0</td>\n",
       "      <td>Urban</td>\n",
       "      <td>Y</td>\n",
       "    </tr>\n",
       "    <tr>\n",
       "      <th>4</th>\n",
       "      <td>LP001008</td>\n",
       "      <td>Male</td>\n",
       "      <td>No</td>\n",
       "      <td>0</td>\n",
       "      <td>Graduate</td>\n",
       "      <td>No</td>\n",
       "      <td>6000</td>\n",
       "      <td>0.0</td>\n",
       "      <td>141.0</td>\n",
       "      <td>360.0</td>\n",
       "      <td>1.0</td>\n",
       "      <td>Urban</td>\n",
       "      <td>Y</td>\n",
       "    </tr>\n",
       "  </tbody>\n",
       "</table>\n",
       "</div>"
      ],
      "text/plain": [
       "    Loan_ID Gender Married Dependents     Education Self_Employed  \\\n",
       "0  LP001002   Male      No          0      Graduate            No   \n",
       "1  LP001003   Male     Yes          1      Graduate            No   \n",
       "2  LP001005   Male     Yes          0      Graduate           Yes   \n",
       "3  LP001006   Male     Yes          0  Not Graduate            No   \n",
       "4  LP001008   Male      No          0      Graduate            No   \n",
       "\n",
       "   ApplicantIncome  CoapplicantIncome  LoanAmount  Loan_Amount_Term  \\\n",
       "0             5849                0.0         NaN             360.0   \n",
       "1             4583             1508.0       128.0             360.0   \n",
       "2             3000                0.0        66.0             360.0   \n",
       "3             2583             2358.0       120.0             360.0   \n",
       "4             6000                0.0       141.0             360.0   \n",
       "\n",
       "   Credit_History Property_Area Loan_Status  \n",
       "0             1.0         Urban           Y  \n",
       "1             1.0         Rural           N  \n",
       "2             1.0         Urban           Y  \n",
       "3             1.0         Urban           Y  \n",
       "4             1.0         Urban           Y  "
      ]
     },
     "execution_count": 23,
     "metadata": {},
     "output_type": "execute_result"
    }
   ],
   "source": [
    "train.head()"
   ]
  },
  {
   "cell_type": "code",
   "execution_count": 24,
   "metadata": {},
   "outputs": [
    {
     "data": {
      "text/plain": [
       "<matplotlib.collections.PathCollection at 0x265c5079cc8>"
      ]
     },
     "execution_count": 24,
     "metadata": {},
     "output_type": "execute_result"
    },
    {
     "data": {
      "image/png": "[encoded data removed]",
      "text/plain": [
       "<Figure size 432x288 with 1 Axes>"
      ]
     },
     "metadata": {
      "needs_background": "light"
     },
     "output_type": "display_data"
    }
   ],
   "source": [
    "plt.scatter(train['ApplicantIncome'], train['LoanAmount'])"
   ]
  },
  {
   "cell_type": "code",
   "execution_count": 25,
   "metadata": {},
   "outputs": [
    {
     "data": {
      "text/plain": [
       "<matplotlib.axes._subplots.AxesSubplot at 0x265c4fc68c8>"
      ]
     },
     "execution_count": 25,
     "metadata": {},
     "output_type": "execute_result"
    },
    {
     "data": {
      "image/png": "[encoded data removed]",
      "text/plain": [
       "<Figure size 432x288 with 1 Axes>"
      ]
     },
     "metadata": {
      "needs_background": "light"
     },
     "output_type": "display_data"
    }
   ],
   "source": [
    "sns.distplot(train['ApplicantIncome']) # Skewed to the left, not normally distributed"
   ]
  },
  {
   "cell_type": "code",
   "execution_count": 26,
   "metadata": {},
   "outputs": [
    {
     "data": {
      "text/plain": [
       "<matplotlib.axes._subplots.AxesSubplot at 0x265c51cdb08>"
      ]
     },
     "execution_count": 26,
     "metadata": {},
     "output_type": "execute_result"
    },
    {
     "data": {
      "image/png": "[encoded data removed]",
      "text/plain": [
       "<Figure size 432x288 with 1 Axes>"
      ]
     },
     "metadata": {
      "needs_background": "light"
     },
     "output_type": "display_data"
    }
   ],
   "source": [
    "train['ApplicantIncome'].plot.box() # Too many outliers"
   ]
  },
  {
   "cell_type": "code",
   "execution_count": 27,
   "metadata": {},
   "outputs": [
    {
     "data": {
      "text/plain": [
       "<matplotlib.axes._subplots.AxesSubplot at 0x265c5101188>"
      ]
     },
     "execution_count": 27,
     "metadata": {},
     "output_type": "execute_result"
    },
    {
     "data": {
      "image/png": "[encoded data removed]",
      "text/plain": [
       "<Figure size 432x288 with 1 Axes>"
      ]
     },
     "metadata": {
      "needs_background": "light"
     },
     "output_type": "display_data"
    }
   ],
   "source": [
    "train.boxplot(column = 'ApplicantIncome', by='Education')"
   ]
  },
  {
   "cell_type": "markdown",
   "metadata": {},
   "source": [
    "# Bivariate Analysis"
   ]
  },
  {
   "cell_type": "code",
   "execution_count": 28,
   "metadata": {},
   "outputs": [],
   "source": [
    "Gender = pd.crosstab(train.Gender, train.Loan_Status)"
   ]
  },
  {
   "cell_type": "code",
   "execution_count": 29,
   "metadata": {},
   "outputs": [
    {
     "data": {
      "text/plain": [
       "<matplotlib.axes._subplots.AxesSubplot at 0x265c62ade88>"
      ]
     },
     "execution_count": 29,
     "metadata": {},
     "output_type": "execute_result"
    },
    {
     "data": {
      "image/png": "[encoded data removed]",
      "text/plain": [
       "<Figure size 360x360 with 1 Axes>"
      ]
     },
     "metadata": {
      "needs_background": "light"
     },
     "output_type": "display_data"
    }
   ],
   "source": [
    "Gender.div(Gender.sum(1).astype(float), axis=0).plot(kind='bar',stacked=True,figsize=(5,5))"
   ]
  },
  {
   "cell_type": "code",
   "execution_count": 30,
   "metadata": {},
   "outputs": [],
   "source": [
    "Married = pd.crosstab(train.Married, train.Loan_Status)"
   ]
  },
  {
   "cell_type": "code",
   "execution_count": 31,
   "metadata": {},
   "outputs": [
    {
     "data": {
      "text/plain": [
       "<matplotlib.axes._subplots.AxesSubplot at 0x265c633dc88>"
      ]
     },
     "execution_count": 31,
     "metadata": {},
     "output_type": "execute_result"
    },
    {
     "data": {
      "image/png": "[encoded data removed]",
      "text/plain": [
       "<Figure size 288x288 with 1 Axes>"
      ]
     },
     "metadata": {
      "needs_background": "light"
     },
     "output_type": "display_data"
    }
   ],
   "source": [
    "Married.div(Married.sum(1).astype(float), axis=0).plot(kind='bar',stacked=True, figsize=(4,4))"
   ]
  },
  {
   "cell_type": "code",
   "execution_count": 32,
   "metadata": {},
   "outputs": [],
   "source": [
    "Dependents = pd.crosstab(train.Dependents, train.Loan_Status)"
   ]
  },
  {
   "cell_type": "code",
   "execution_count": 33,
   "metadata": {},
   "outputs": [
    {
     "data": {
      "text/plain": [
       "<matplotlib.axes._subplots.AxesSubplot at 0x265c636c108>"
      ]
     },
     "execution_count": 33,
     "metadata": {},
     "output_type": "execute_result"
    },
    {
     "data": {
      "image/png": "[encoded data removed]",
      "text/plain": [
       "<Figure size 288x288 with 1 Axes>"
      ]
     },
     "metadata": {
      "needs_background": "light"
     },
     "output_type": "display_data"
    }
   ],
   "source": [
    "Dependents.div(Dependents.sum(1).astype(float), axis=0).plot(kind='bar',stacked=True, figsize=(4,4))"
   ]
  },
  {
   "cell_type": "code",
   "execution_count": 34,
   "metadata": {},
   "outputs": [
    {
     "data": {
      "text/plain": [
       "<matplotlib.axes._subplots.AxesSubplot at 0x265c6429548>"
      ]
     },
     "execution_count": 34,
     "metadata": {},
     "output_type": "execute_result"
    },
    {
     "data": {
      "image/png": "[encoded data removed]",
      "text/plain": [
       "<Figure size 288x288 with 1 Axes>"
      ]
     },
     "metadata": {
      "needs_background": "light"
     },
     "output_type": "display_data"
    }
   ],
   "source": [
    "Education = pd.crosstab(train.Education, train.Loan_Status)\n",
    "Education.div(Education.sum(1).astype(float), axis=0).plot(kind='bar',stacked=True, figsize=(4,4))"
   ]
  },
  {
   "cell_type": "code",
   "execution_count": 35,
   "metadata": {},
   "outputs": [
    {
     "data": {
      "text/plain": [
       "<matplotlib.axes._subplots.AxesSubplot at 0x265c6499b08>"
      ]
     },
     "execution_count": 35,
     "metadata": {},
     "output_type": "execute_result"
    },
    {
     "data": {
      "image/png": "[encoded data removed]",
      "text/plain": [
       "<Figure size 288x288 with 1 Axes>"
      ]
     },
     "metadata": {
      "needs_background": "light"
     },
     "output_type": "display_data"
    }
   ],
   "source": [
    "Employee = pd.crosstab(train.Self_Employed, train.Loan_Status)\n",
    "Employee.div(Employee.sum(1).astype(float), axis=0).plot(kind='bar',stacked=True, figsize=(4,4))"
   ]
  },
  {
   "cell_type": "code",
   "execution_count": 36,
   "metadata": {},
   "outputs": [
    {
     "data": {
      "text/plain": [
       "<matplotlib.axes._subplots.AxesSubplot at 0x265c650f408>"
      ]
     },
     "execution_count": 36,
     "metadata": {},
     "output_type": "execute_result"
    },
    {
     "data": {
      "image/png": "[encoded data removed]",
      "text/plain": [
       "<Figure size 288x288 with 1 Axes>"
      ]
     },
     "metadata": {
      "needs_background": "light"
     },
     "output_type": "display_data"
    }
   ],
   "source": [
    "credit = pd.crosstab(train.Credit_History, train.Loan_Status)\n",
    "credit.div(credit.sum(1).astype(float), axis=0).plot(kind='bar',stacked=True, figsize=(4,4))"
   ]
  },
  {
   "cell_type": "code",
   "execution_count": 37,
   "metadata": {},
   "outputs": [
    {
     "data": {
      "text/plain": [
       "<matplotlib.axes._subplots.AxesSubplot at 0x265c6583308>"
      ]
     },
     "execution_count": 37,
     "metadata": {},
     "output_type": "execute_result"
    },
    {
     "data": {
      "image/png": "[encoded data removed]",
      "text/plain": [
       "<Figure size 288x288 with 1 Axes>"
      ]
     },
     "metadata": {
      "needs_background": "light"
     },
     "output_type": "display_data"
    }
   ],
   "source": [
    "property_area = pd.crosstab(train.Property_Area, train.Loan_Status)\n",
    "property_area.div(property_area.sum(1).astype(float), axis=0).plot(kind='bar',stacked=True, figsize=(4,4))"
   ]
  },
  {
   "cell_type": "code",
   "execution_count": 38,
   "metadata": {},
   "outputs": [],
   "source": [
    "# More relationship between Numerical independent categorical and loan status. "
   ]
  },
  {
   "cell_type": "code",
   "execution_count": 39,
   "metadata": {},
   "outputs": [
    {
     "data": {
      "text/plain": [
       "<matplotlib.axes._subplots.AxesSubplot at 0x265c65f6948>"
      ]
     },
     "execution_count": 39,
     "metadata": {},
     "output_type": "execute_result"
    },
    {
     "data": {
      "image/png": "[encoded data removed]",
      "text/plain": [
       "<Figure size 432x288 with 1 Axes>"
      ]
     },
     "metadata": {
      "needs_background": "light"
     },
     "output_type": "display_data"
    }
   ],
   "source": [
    "train.groupby('Loan_Status')['ApplicantIncome'].mean().plot.bar() # It is not clear about the internal distribution of incomes"
   ]
  },
  {
   "cell_type": "code",
   "execution_count": 40,
   "metadata": {},
   "outputs": [],
   "source": [
    "bins = [0,2000,4000,10000,81000]\n",
    "group = ['Low','Average','High','Very High']\n",
    "train['income_dist'] = pd.cut(train['ApplicantIncome'],bins,labels=group)"
   ]
  },
  {
   "cell_type": "code",
   "execution_count": 41,
   "metadata": {},
   "outputs": [],
   "source": [
    "income_dist = pd.crosstab(train['income_dist'],train['Loan_Status'])"
   ]
  },
  {
   "cell_type": "code",
   "execution_count": 42,
   "metadata": {},
   "outputs": [
    {
     "data": {
      "text/plain": [
       "<matplotlib.axes._subplots.AxesSubplot at 0x265c666dd48>"
      ]
     },
     "execution_count": 42,
     "metadata": {},
     "output_type": "execute_result"
    },
    {
     "data": {
      "image/png": "[encoded data removed]",
      "text/plain": [
       "<Figure size 432x288 with 1 Axes>"
      ]
     },
     "metadata": {
      "needs_background": "light"
     },
     "output_type": "display_data"
    }
   ],
   "source": [
    "income_dist.div(income_dist.sum(1).astype(float), axis=0).plot(kind='bar',stacked=True) \n",
    "# Our hypothesis that higher income means more loan approval is wrong as it is shown by the graph"
   ]
  },
  {
   "cell_type": "code",
   "execution_count": 43,
   "metadata": {},
   "outputs": [],
   "source": [
    "bins = [0,2000,6000,42000]\n",
    "group = ['Low','Average','High']\n",
    "train['co_income_dist'] = pd.cut(train['CoapplicantIncome'],bins,labels=group)"
   ]
  },
  {
   "cell_type": "code",
   "execution_count": 44,
   "metadata": {},
   "outputs": [],
   "source": [
    "co_income_dist = pd.crosstab(train['co_income_dist'],train['Loan_Status'])"
   ]
  },
  {
   "cell_type": "code",
   "execution_count": 45,
   "metadata": {},
   "outputs": [
    {
     "data": {
      "text/plain": [
       "<matplotlib.axes._subplots.AxesSubplot at 0x265c66d3908>"
      ]
     },
     "execution_count": 45,
     "metadata": {},
     "output_type": "execute_result"
    },
    {
     "data": {
      "image/png": "[encoded data removed]",
      "text/plain": [
       "<Figure size 432x288 with 1 Axes>"
      ]
     },
     "metadata": {
      "needs_background": "light"
     },
     "output_type": "display_data"
    }
   ],
   "source": [
    "co_income_dist.div(co_income_dist.sum(1).astype(float), axis=0).plot(kind='bar',stacked=True)\n",
    "# It doesn't make sense since having lower income is counter intuitive in case of loan approval"
   ]
  },
  {
   "cell_type": "code",
   "execution_count": 46,
   "metadata": {},
   "outputs": [],
   "source": [
    "# We should check the affect of total income on loan status\n",
    "train['total_income'] = train['ApplicantIncome'] + train['CoapplicantIncome']"
   ]
  },
  {
   "cell_type": "code",
   "execution_count": 47,
   "metadata": {},
   "outputs": [],
   "source": [
    "bins = [0,2000,4000,10000,81000]\n",
    "group = ['Low','Average','High','Very High']\n",
    "train['total_income_dist'] = pd.cut(train['total_income'],bins,labels=group)"
   ]
  },
  {
   "cell_type": "code",
   "execution_count": 48,
   "metadata": {},
   "outputs": [],
   "source": [
    "total_income_dist = pd.crosstab(train['total_income_dist'],train['Loan_Status'])"
   ]
  },
  {
   "cell_type": "code",
   "execution_count": 49,
   "metadata": {},
   "outputs": [
    {
     "data": {
      "text/plain": [
       "<matplotlib.axes._subplots.AxesSubplot at 0x265c6773fc8>"
      ]
     },
     "execution_count": 49,
     "metadata": {},
     "output_type": "execute_result"
    },
    {
     "data": {
      "image/png": "[encoded data removed]",
      "text/plain": [
       "<Figure size 432x288 with 1 Axes>"
      ]
     },
     "metadata": {
      "needs_background": "light"
     },
     "output_type": "display_data"
    }
   ],
   "source": [
    "total_income_dist.div(total_income_dist.sum(1).astype(float), axis=0).plot(kind='bar',stacked=True) \n",
    "# Now this looks more intuitive as having higher income converts more loans"
   ]
  },
  {
   "cell_type": "code",
   "execution_count": 50,
   "metadata": {},
   "outputs": [],
   "source": [
    "# Now lets check the loan amount variable to check its affect on loan approvals\n",
    "bins = [0,100,300,700]\n",
    "group = ['Low','Average','High']\n",
    "train['loanamount_dist'] = pd.cut(train['LoanAmount'],bins,labels=group)"
   ]
  },
  {
   "cell_type": "code",
   "execution_count": 51,
   "metadata": {},
   "outputs": [],
   "source": [
    "loanamount_dist = pd.crosstab(train['loanamount_dist'],train['Loan_Status'])"
   ]
  },
  {
   "cell_type": "code",
   "execution_count": 52,
   "metadata": {},
   "outputs": [
    {
     "data": {
      "text/plain": [
       "<matplotlib.axes._subplots.AxesSubplot at 0x265c67f3ac8>"
      ]
     },
     "execution_count": 52,
     "metadata": {},
     "output_type": "execute_result"
    },
    {
     "data": {
      "image/png": "[encoded data removed]",
      "text/plain": [
       "<Figure size 432x288 with 1 Axes>"
      ]
     },
     "metadata": {
      "needs_background": "light"
     },
     "output_type": "display_data"
    }
   ],
   "source": [
    "loanamount_dist.div(loanamount_dist.sum(1).astype(float), axis=0).plot(kind='bar',stacked = True)\n",
    "# Average higher loan amount means more loan rejections"
   ]
  },
  {
   "cell_type": "code",
   "execution_count": 53,
   "metadata": {},
   "outputs": [],
   "source": [
    "# Since not all algorithms take categorical values, we will convert them into numerical value\n",
    "train['Dependents'].replace('3+',3, inplace=True)"
   ]
  },
  {
   "cell_type": "code",
   "execution_count": 54,
   "metadata": {},
   "outputs": [],
   "source": [
    "test['Dependents'].replace('3+',3, inplace=True)"
   ]
  },
  {
   "cell_type": "code",
   "execution_count": 55,
   "metadata": {},
   "outputs": [],
   "source": [
    "train['Loan_Status'].replace('N',0,inplace=True)\n",
    "train['Loan_Status'].replace('Y',1,inplace=True)"
   ]
  },
  {
   "cell_type": "code",
   "execution_count": 56,
   "metadata": {},
   "outputs": [],
   "source": [
    "# Now dropping all the bin columns \n",
    "train = train.drop(['income_dist','co_income_dist','loanamount_dist','total_income_dist','total_income'], axis=1)"
   ]
  },
  {
   "cell_type": "code",
   "execution_count": 57,
   "metadata": {},
   "outputs": [
    {
     "data": {
      "text/plain": [
       "<matplotlib.axes._subplots.AxesSubplot at 0x265c687a1c8>"
      ]
     },
     "execution_count": 57,
     "metadata": {},
     "output_type": "execute_result"
    },
    {
     "data": {
      "image/png": "[encoded data removed]",
      "text/plain": [
       "<Figure size 648x432 with 2 Axes>"
      ]
     },
     "metadata": {
      "needs_background": "light"
     },
     "output_type": "display_data"
    }
   ],
   "source": [
    "# Now using heatmap for finding the correlation between numerical features\n",
    "matrix = train.corr()\n",
    "fig,ax = plt.subplots(figsize=(9,6))\n",
    "sns.heatmap(matrix, vmax=.9,square=True, cmap='Greens')"
   ]
  },
  {
   "cell_type": "code",
   "execution_count": 58,
   "metadata": {},
   "outputs": [
    {
     "data": {
      "text/plain": [
       "Loan_ID               0\n",
       "Gender               13\n",
       "Married               3\n",
       "Dependents           15\n",
       "Education             0\n",
       "Self_Employed        32\n",
       "ApplicantIncome       0\n",
       "CoapplicantIncome     0\n",
       "LoanAmount           22\n",
       "Loan_Amount_Term     14\n",
       "Credit_History       50\n",
       "Property_Area         0\n",
       "Loan_Status           0\n",
       "dtype: int64"
      ]
     },
     "execution_count": 58,
     "metadata": {},
     "output_type": "execute_result"
    }
   ],
   "source": [
    "# Treating missing values\n",
    "# For numerical values, we shall use mean or median to fill\n",
    "# For categorical values, we shall use mode to fill\n",
    "train.isnull().sum()"
   ]
  },
  {
   "cell_type": "code",
   "execution_count": 59,
   "metadata": {},
   "outputs": [],
   "source": [
    "train.Gender.fillna(train.Gender.mode()[0],inplace=True)\n",
    "train.Married.fillna(train.Married.mode()[0],inplace=True)\n",
    "train.Dependents.fillna(train.Dependents.mode()[0],inplace=True)\n",
    "train.Self_Employed.fillna(train.Self_Employed.mode()[0],inplace=True)\n",
    "train.Credit_History.fillna(train.Credit_History.mode()[0],inplace=True)"
   ]
  },
  {
   "cell_type": "code",
   "execution_count": 60,
   "metadata": {},
   "outputs": [
    {
     "data": {
      "text/plain": [
       "Loan_ID               0\n",
       "Gender                0\n",
       "Married               0\n",
       "Dependents            0\n",
       "Education             0\n",
       "Self_Employed         0\n",
       "ApplicantIncome       0\n",
       "CoapplicantIncome     0\n",
       "LoanAmount           22\n",
       "Loan_Amount_Term     14\n",
       "Credit_History        0\n",
       "Property_Area         0\n",
       "Loan_Status           0\n",
       "dtype: int64"
      ]
     },
     "execution_count": 60,
     "metadata": {},
     "output_type": "execute_result"
    }
   ],
   "source": [
    "train.isnull().sum()"
   ]
  },
  {
   "cell_type": "code",
   "execution_count": 61,
   "metadata": {},
   "outputs": [],
   "source": [
    "train.LoanAmount.fillna(train.LoanAmount.mode()[0],inplace=True)"
   ]
  },
  {
   "cell_type": "code",
   "execution_count": 62,
   "metadata": {},
   "outputs": [],
   "source": [
    "train.Loan_Amount_Term.fillna(train.Loan_Amount_Term.mode()[0],inplace=True)"
   ]
  },
  {
   "cell_type": "code",
   "execution_count": 63,
   "metadata": {},
   "outputs": [],
   "source": [
    "test.Gender.fillna(test.Gender.mode()[0],inplace=True)\n",
    "test.Married.fillna(test.Married.mode()[0],inplace=True)\n",
    "test.Dependents.fillna(test.Dependents.mode()[0],inplace=True)\n",
    "test.Self_Employed.fillna(test.Self_Employed.mode()[0],inplace=True)\n",
    "test.Credit_History.fillna(test.Credit_History.mode()[0],inplace=True)\n",
    "test.LoanAmount.fillna(test.LoanAmount.mode()[0],inplace=True)\n",
    "test.Loan_Amount_Term.fillna(test.Loan_Amount_Term.mode()[0],inplace=True)"
   ]
  },
  {
   "cell_type": "code",
   "execution_count": 64,
   "metadata": {},
   "outputs": [
    {
     "name": "stderr",
     "output_type": "stream",
     "text": [
      "D:\\Anaconda Navigator\\lib\\site-packages\\ipykernel_launcher.py:4: UserWarning: Pandas doesn't allow columns to be created via a new attribute name - see https://pandas.pydata.org/pandas-docs/stable/indexing.html#attribute-access\n",
      "  after removing the cwd from sys.path.\n",
      "D:\\Anaconda Navigator\\lib\\site-packages\\ipykernel_launcher.py:5: UserWarning: Pandas doesn't allow columns to be created via a new attribute name - see https://pandas.pydata.org/pandas-docs/stable/indexing.html#attribute-access\n",
      "  \"\"\"\n"
     ]
    }
   ],
   "source": [
    "# One treatment for outliers is the use of logarithmic function so that large values become smaller and small values \n",
    "#remain unaffected\n",
    "\n",
    "train.LoanAmount_log = np.log(train.LoanAmount)\n",
    "test.LoanAmount_log = np.log(test.LoanAmount)"
   ]
  },
  {
   "cell_type": "markdown",
   "metadata": {},
   "source": [
    "## Building Logistic Regression Model"
   ]
  },
  {
   "cell_type": "code",
   "execution_count": 65,
   "metadata": {},
   "outputs": [],
   "source": [
    "# It is used for predicting binary classification problem\n",
    "train = train.drop('Loan_ID', axis=1)\n",
    "test = test.drop('Loan_ID', axis=1)"
   ]
  },
  {
   "cell_type": "code",
   "execution_count": 66,
   "metadata": {},
   "outputs": [],
   "source": [
    "X = train.drop('Loan_Status',1)\n",
    "y = train.Loan_Status"
   ]
  },
  {
   "cell_type": "code",
   "execution_count": 67,
   "metadata": {},
   "outputs": [
    {
     "data": {
      "text/plain": [
       "0    1\n",
       "1    0\n",
       "2    1\n",
       "3    1\n",
       "4    1\n",
       "Name: Loan_Status, dtype: int64"
      ]
     },
     "execution_count": 67,
     "metadata": {},
     "output_type": "execute_result"
    }
   ],
   "source": [
    "y.head()"
   ]
  },
  {
   "cell_type": "code",
   "execution_count": 68,
   "metadata": {},
   "outputs": [
    {
     "data": {
      "text/html": [
       "<div>\n",
       "<style scoped>\n",
       "    .dataframe tbody tr th:only-of-type {\n",
       "        vertical-align: middle;\n",
       "    }\n",
       "\n",
       "    .dataframe tbody tr th {\n",
       "        vertical-align: top;\n",
       "    }\n",
       "\n",
       "    .dataframe thead th {\n",
       "        text-align: right;\n",
       "    }\n",
       "</style>\n",
       "<table border=\"1\" class=\"dataframe\">\n",
       "  <thead>\n",
       "    <tr style=\"text-align: right;\">\n",
       "      <th></th>\n",
       "      <th>Gender</th>\n",
       "      <th>Married</th>\n",
       "      <th>Dependents</th>\n",
       "      <th>Education</th>\n",
       "      <th>Self_Employed</th>\n",
       "      <th>ApplicantIncome</th>\n",
       "      <th>CoapplicantIncome</th>\n",
       "      <th>LoanAmount</th>\n",
       "      <th>Loan_Amount_Term</th>\n",
       "      <th>Credit_History</th>\n",
       "      <th>Property_Area</th>\n",
       "    </tr>\n",
       "  </thead>\n",
       "  <tbody>\n",
       "    <tr>\n",
       "      <th>0</th>\n",
       "      <td>Male</td>\n",
       "      <td>No</td>\n",
       "      <td>0</td>\n",
       "      <td>Graduate</td>\n",
       "      <td>No</td>\n",
       "      <td>5849</td>\n",
       "      <td>0.0</td>\n",
       "      <td>120.0</td>\n",
       "      <td>360.0</td>\n",
       "      <td>1.0</td>\n",
       "      <td>Urban</td>\n",
       "    </tr>\n",
       "    <tr>\n",
       "      <th>1</th>\n",
       "      <td>Male</td>\n",
       "      <td>Yes</td>\n",
       "      <td>1</td>\n",
       "      <td>Graduate</td>\n",
       "      <td>No</td>\n",
       "      <td>4583</td>\n",
       "      <td>1508.0</td>\n",
       "      <td>128.0</td>\n",
       "      <td>360.0</td>\n",
       "      <td>1.0</td>\n",
       "      <td>Rural</td>\n",
       "    </tr>\n",
       "    <tr>\n",
       "      <th>2</th>\n",
       "      <td>Male</td>\n",
       "      <td>Yes</td>\n",
       "      <td>0</td>\n",
       "      <td>Graduate</td>\n",
       "      <td>Yes</td>\n",
       "      <td>3000</td>\n",
       "      <td>0.0</td>\n",
       "      <td>66.0</td>\n",
       "      <td>360.0</td>\n",
       "      <td>1.0</td>\n",
       "      <td>Urban</td>\n",
       "    </tr>\n",
       "    <tr>\n",
       "      <th>3</th>\n",
       "      <td>Male</td>\n",
       "      <td>Yes</td>\n",
       "      <td>0</td>\n",
       "      <td>Not Graduate</td>\n",
       "      <td>No</td>\n",
       "      <td>2583</td>\n",
       "      <td>2358.0</td>\n",
       "      <td>120.0</td>\n",
       "      <td>360.0</td>\n",
       "      <td>1.0</td>\n",
       "      <td>Urban</td>\n",
       "    </tr>\n",
       "    <tr>\n",
       "      <th>4</th>\n",
       "      <td>Male</td>\n",
       "      <td>No</td>\n",
       "      <td>0</td>\n",
       "      <td>Graduate</td>\n",
       "      <td>No</td>\n",
       "      <td>6000</td>\n",
       "      <td>0.0</td>\n",
       "      <td>141.0</td>\n",
       "      <td>360.0</td>\n",
       "      <td>1.0</td>\n",
       "      <td>Urban</td>\n",
       "    </tr>\n",
       "    <tr>\n",
       "      <th>...</th>\n",
       "      <td>...</td>\n",
       "      <td>...</td>\n",
       "      <td>...</td>\n",
       "      <td>...</td>\n",
       "      <td>...</td>\n",
       "      <td>...</td>\n",
       "      <td>...</td>\n",
       "      <td>...</td>\n",
       "      <td>...</td>\n",
       "      <td>...</td>\n",
       "      <td>...</td>\n",
       "    </tr>\n",
       "    <tr>\n",
       "      <th>609</th>\n",
       "      <td>Female</td>\n",
       "      <td>No</td>\n",
       "      <td>0</td>\n",
       "      <td>Graduate</td>\n",
       "      <td>No</td>\n",
       "      <td>2900</td>\n",
       "      <td>0.0</td>\n",
       "      <td>71.0</td>\n",
       "      <td>360.0</td>\n",
       "      <td>1.0</td>\n",
       "      <td>Rural</td>\n",
       "    </tr>\n",
       "    <tr>\n",
       "      <th>610</th>\n",
       "      <td>Male</td>\n",
       "      <td>Yes</td>\n",
       "      <td>3</td>\n",
       "      <td>Graduate</td>\n",
       "      <td>No</td>\n",
       "      <td>4106</td>\n",
       "      <td>0.0</td>\n",
       "      <td>40.0</td>\n",
       "      <td>180.0</td>\n",
       "      <td>1.0</td>\n",
       "      <td>Rural</td>\n",
       "    </tr>\n",
       "    <tr>\n",
       "      <th>611</th>\n",
       "      <td>Male</td>\n",
       "      <td>Yes</td>\n",
       "      <td>1</td>\n",
       "      <td>Graduate</td>\n",
       "      <td>No</td>\n",
       "      <td>8072</td>\n",
       "      <td>240.0</td>\n",
       "      <td>253.0</td>\n",
       "      <td>360.0</td>\n",
       "      <td>1.0</td>\n",
       "      <td>Urban</td>\n",
       "    </tr>\n",
       "    <tr>\n",
       "      <th>612</th>\n",
       "      <td>Male</td>\n",
       "      <td>Yes</td>\n",
       "      <td>2</td>\n",
       "      <td>Graduate</td>\n",
       "      <td>No</td>\n",
       "      <td>7583</td>\n",
       "      <td>0.0</td>\n",
       "      <td>187.0</td>\n",
       "      <td>360.0</td>\n",
       "      <td>1.0</td>\n",
       "      <td>Urban</td>\n",
       "    </tr>\n",
       "    <tr>\n",
       "      <th>613</th>\n",
       "      <td>Female</td>\n",
       "      <td>No</td>\n",
       "      <td>0</td>\n",
       "      <td>Graduate</td>\n",
       "      <td>Yes</td>\n",
       "      <td>4583</td>\n",
       "      <td>0.0</td>\n",
       "      <td>133.0</td>\n",
       "      <td>360.0</td>\n",
       "      <td>0.0</td>\n",
       "      <td>Semiurban</td>\n",
       "    </tr>\n",
       "  </tbody>\n",
       "</table>\n",
       "<p>614 rows × 11 columns</p>\n",
       "</div>"
      ],
      "text/plain": [
       "     Gender Married Dependents     Education Self_Employed  ApplicantIncome  \\\n",
       "0      Male      No          0      Graduate            No             5849   \n",
       "1      Male     Yes          1      Graduate            No             4583   \n",
       "2      Male     Yes          0      Graduate           Yes             3000   \n",
       "3      Male     Yes          0  Not Graduate            No             2583   \n",
       "4      Male      No          0      Graduate            No             6000   \n",
       "..      ...     ...        ...           ...           ...              ...   \n",
       "609  Female      No          0      Graduate            No             2900   \n",
       "610    Male     Yes          3      Graduate            No             4106   \n",
       "611    Male     Yes          1      Graduate            No             8072   \n",
       "612    Male     Yes          2      Graduate            No             7583   \n",
       "613  Female      No          0      Graduate           Yes             4583   \n",
       "\n",
       "     CoapplicantIncome  LoanAmount  Loan_Amount_Term  Credit_History  \\\n",
       "0                  0.0       120.0             360.0             1.0   \n",
       "1               1508.0       128.0             360.0             1.0   \n",
       "2                  0.0        66.0             360.0             1.0   \n",
       "3               2358.0       120.0             360.0             1.0   \n",
       "4                  0.0       141.0             360.0             1.0   \n",
       "..                 ...         ...               ...             ...   \n",
       "609                0.0        71.0             360.0             1.0   \n",
       "610                0.0        40.0             180.0             1.0   \n",
       "611              240.0       253.0             360.0             1.0   \n",
       "612                0.0       187.0             360.0             1.0   \n",
       "613                0.0       133.0             360.0             0.0   \n",
       "\n",
       "    Property_Area  \n",
       "0           Urban  \n",
       "1           Rural  \n",
       "2           Urban  \n",
       "3           Urban  \n",
       "4           Urban  \n",
       "..            ...  \n",
       "609         Rural  \n",
       "610         Rural  \n",
       "611         Urban  \n",
       "612         Urban  \n",
       "613     Semiurban  \n",
       "\n",
       "[614 rows x 11 columns]"
      ]
     },
     "execution_count": 68,
     "metadata": {},
     "output_type": "execute_result"
    }
   ],
   "source": [
    "X"
   ]
  },
  {
   "cell_type": "code",
   "execution_count": 69,
   "metadata": {},
   "outputs": [],
   "source": [
    "# Converting the categorical value with get_dummies\n",
    "X = pd.get_dummies(X)\n",
    "train = pd.get_dummies(train)\n",
    "test = pd.get_dummies(test)"
   ]
  },
  {
   "cell_type": "code",
   "execution_count": 70,
   "metadata": {},
   "outputs": [
    {
     "data": {
      "text/html": [
       "<div>\n",
       "<style scoped>\n",
       "    .dataframe tbody tr th:only-of-type {\n",
       "        vertical-align: middle;\n",
       "    }\n",
       "\n",
       "    .dataframe tbody tr th {\n",
       "        vertical-align: top;\n",
       "    }\n",
       "\n",
       "    .dataframe thead th {\n",
       "        text-align: right;\n",
       "    }\n",
       "</style>\n",
       "<table border=\"1\" class=\"dataframe\">\n",
       "  <thead>\n",
       "    <tr style=\"text-align: right;\">\n",
       "      <th></th>\n",
       "      <th>ApplicantIncome</th>\n",
       "      <th>CoapplicantIncome</th>\n",
       "      <th>LoanAmount</th>\n",
       "      <th>Loan_Amount_Term</th>\n",
       "      <th>Credit_History</th>\n",
       "      <th>Loan_Status</th>\n",
       "      <th>Gender_Female</th>\n",
       "      <th>Gender_Male</th>\n",
       "      <th>Married_No</th>\n",
       "      <th>Married_Yes</th>\n",
       "      <th>...</th>\n",
       "      <th>Dependents_0</th>\n",
       "      <th>Dependents_1</th>\n",
       "      <th>Dependents_2</th>\n",
       "      <th>Education_Graduate</th>\n",
       "      <th>Education_Not Graduate</th>\n",
       "      <th>Self_Employed_No</th>\n",
       "      <th>Self_Employed_Yes</th>\n",
       "      <th>Property_Area_Rural</th>\n",
       "      <th>Property_Area_Semiurban</th>\n",
       "      <th>Property_Area_Urban</th>\n",
       "    </tr>\n",
       "  </thead>\n",
       "  <tbody>\n",
       "    <tr>\n",
       "      <th>0</th>\n",
       "      <td>5849</td>\n",
       "      <td>0.0</td>\n",
       "      <td>120.0</td>\n",
       "      <td>360.0</td>\n",
       "      <td>1.0</td>\n",
       "      <td>1</td>\n",
       "      <td>0</td>\n",
       "      <td>1</td>\n",
       "      <td>1</td>\n",
       "      <td>0</td>\n",
       "      <td>...</td>\n",
       "      <td>1</td>\n",
       "      <td>0</td>\n",
       "      <td>0</td>\n",
       "      <td>1</td>\n",
       "      <td>0</td>\n",
       "      <td>1</td>\n",
       "      <td>0</td>\n",
       "      <td>0</td>\n",
       "      <td>0</td>\n",
       "      <td>1</td>\n",
       "    </tr>\n",
       "    <tr>\n",
       "      <th>1</th>\n",
       "      <td>4583</td>\n",
       "      <td>1508.0</td>\n",
       "      <td>128.0</td>\n",
       "      <td>360.0</td>\n",
       "      <td>1.0</td>\n",
       "      <td>0</td>\n",
       "      <td>0</td>\n",
       "      <td>1</td>\n",
       "      <td>0</td>\n",
       "      <td>1</td>\n",
       "      <td>...</td>\n",
       "      <td>0</td>\n",
       "      <td>1</td>\n",
       "      <td>0</td>\n",
       "      <td>1</td>\n",
       "      <td>0</td>\n",
       "      <td>1</td>\n",
       "      <td>0</td>\n",
       "      <td>1</td>\n",
       "      <td>0</td>\n",
       "      <td>0</td>\n",
       "    </tr>\n",
       "    <tr>\n",
       "      <th>2</th>\n",
       "      <td>3000</td>\n",
       "      <td>0.0</td>\n",
       "      <td>66.0</td>\n",
       "      <td>360.0</td>\n",
       "      <td>1.0</td>\n",
       "      <td>1</td>\n",
       "      <td>0</td>\n",
       "      <td>1</td>\n",
       "      <td>0</td>\n",
       "      <td>1</td>\n",
       "      <td>...</td>\n",
       "      <td>1</td>\n",
       "      <td>0</td>\n",
       "      <td>0</td>\n",
       "      <td>1</td>\n",
       "      <td>0</td>\n",
       "      <td>0</td>\n",
       "      <td>1</td>\n",
       "      <td>0</td>\n",
       "      <td>0</td>\n",
       "      <td>1</td>\n",
       "    </tr>\n",
       "    <tr>\n",
       "      <th>3</th>\n",
       "      <td>2583</td>\n",
       "      <td>2358.0</td>\n",
       "      <td>120.0</td>\n",
       "      <td>360.0</td>\n",
       "      <td>1.0</td>\n",
       "      <td>1</td>\n",
       "      <td>0</td>\n",
       "      <td>1</td>\n",
       "      <td>0</td>\n",
       "      <td>1</td>\n",
       "      <td>...</td>\n",
       "      <td>1</td>\n",
       "      <td>0</td>\n",
       "      <td>0</td>\n",
       "      <td>0</td>\n",
       "      <td>1</td>\n",
       "      <td>1</td>\n",
       "      <td>0</td>\n",
       "      <td>0</td>\n",
       "      <td>0</td>\n",
       "      <td>1</td>\n",
       "    </tr>\n",
       "    <tr>\n",
       "      <th>4</th>\n",
       "      <td>6000</td>\n",
       "      <td>0.0</td>\n",
       "      <td>141.0</td>\n",
       "      <td>360.0</td>\n",
       "      <td>1.0</td>\n",
       "      <td>1</td>\n",
       "      <td>0</td>\n",
       "      <td>1</td>\n",
       "      <td>1</td>\n",
       "      <td>0</td>\n",
       "      <td>...</td>\n",
       "      <td>1</td>\n",
       "      <td>0</td>\n",
       "      <td>0</td>\n",
       "      <td>1</td>\n",
       "      <td>0</td>\n",
       "      <td>1</td>\n",
       "      <td>0</td>\n",
       "      <td>0</td>\n",
       "      <td>0</td>\n",
       "      <td>1</td>\n",
       "    </tr>\n",
       "  </tbody>\n",
       "</table>\n",
       "<p>5 rows × 21 columns</p>\n",
       "</div>"
      ],
      "text/plain": [
       "   ApplicantIncome  CoapplicantIncome  LoanAmount  Loan_Amount_Term  \\\n",
       "0             5849                0.0       120.0             360.0   \n",
       "1             4583             1508.0       128.0             360.0   \n",
       "2             3000                0.0        66.0             360.0   \n",
       "3             2583             2358.0       120.0             360.0   \n",
       "4             6000                0.0       141.0             360.0   \n",
       "\n",
       "   Credit_History  Loan_Status  Gender_Female  Gender_Male  Married_No  \\\n",
       "0             1.0            1              0            1           1   \n",
       "1             1.0            0              0            1           0   \n",
       "2             1.0            1              0            1           0   \n",
       "3             1.0            1              0            1           0   \n",
       "4             1.0            1              0            1           1   \n",
       "\n",
       "   Married_Yes  ...  Dependents_0  Dependents_1  Dependents_2  \\\n",
       "0            0  ...             1             0             0   \n",
       "1            1  ...             0             1             0   \n",
       "2            1  ...             1             0             0   \n",
       "3            1  ...             1             0             0   \n",
       "4            0  ...             1             0             0   \n",
       "\n",
       "   Education_Graduate  Education_Not Graduate  Self_Employed_No  \\\n",
       "0                   1                       0                 1   \n",
       "1                   1                       0                 1   \n",
       "2                   1                       0                 0   \n",
       "3                   0                       1                 1   \n",
       "4                   1                       0                 1   \n",
       "\n",
       "   Self_Employed_Yes  Property_Area_Rural  Property_Area_Semiurban  \\\n",
       "0                  0                    0                        0   \n",
       "1                  0                    1                        0   \n",
       "2                  1                    0                        0   \n",
       "3                  0                    0                        0   \n",
       "4                  0                    0                        0   \n",
       "\n",
       "   Property_Area_Urban  \n",
       "0                    1  \n",
       "1                    0  \n",
       "2                    1  \n",
       "3                    1  \n",
       "4                    1  \n",
       "\n",
       "[5 rows x 21 columns]"
      ]
     },
     "execution_count": 70,
     "metadata": {},
     "output_type": "execute_result"
    }
   ],
   "source": [
    "train.head()"
   ]
  },
  {
   "cell_type": "code",
   "execution_count": 71,
   "metadata": {},
   "outputs": [
    {
     "data": {
      "text/html": [
       "<div>\n",
       "<style scoped>\n",
       "    .dataframe tbody tr th:only-of-type {\n",
       "        vertical-align: middle;\n",
       "    }\n",
       "\n",
       "    .dataframe tbody tr th {\n",
       "        vertical-align: top;\n",
       "    }\n",
       "\n",
       "    .dataframe thead th {\n",
       "        text-align: right;\n",
       "    }\n",
       "</style>\n",
       "<table border=\"1\" class=\"dataframe\">\n",
       "  <thead>\n",
       "    <tr style=\"text-align: right;\">\n",
       "      <th></th>\n",
       "      <th>ApplicantIncome</th>\n",
       "      <th>CoapplicantIncome</th>\n",
       "      <th>LoanAmount</th>\n",
       "      <th>Loan_Amount_Term</th>\n",
       "      <th>Credit_History</th>\n",
       "      <th>Gender_Female</th>\n",
       "      <th>Gender_Male</th>\n",
       "      <th>Married_No</th>\n",
       "      <th>Married_Yes</th>\n",
       "      <th>Dependents_3</th>\n",
       "      <th>Dependents_0</th>\n",
       "      <th>Dependents_1</th>\n",
       "      <th>Dependents_2</th>\n",
       "      <th>Education_Graduate</th>\n",
       "      <th>Education_Not Graduate</th>\n",
       "      <th>Self_Employed_No</th>\n",
       "      <th>Self_Employed_Yes</th>\n",
       "      <th>Property_Area_Rural</th>\n",
       "      <th>Property_Area_Semiurban</th>\n",
       "      <th>Property_Area_Urban</th>\n",
       "    </tr>\n",
       "  </thead>\n",
       "  <tbody>\n",
       "    <tr>\n",
       "      <th>count</th>\n",
       "      <td>614.000000</td>\n",
       "      <td>614.000000</td>\n",
       "      <td>614.000000</td>\n",
       "      <td>614.000000</td>\n",
       "      <td>614.000000</td>\n",
       "      <td>614.000000</td>\n",
       "      <td>614.000000</td>\n",
       "      <td>614.000000</td>\n",
       "      <td>614.000000</td>\n",
       "      <td>614.000000</td>\n",
       "      <td>614.000000</td>\n",
       "      <td>614.000000</td>\n",
       "      <td>614.000000</td>\n",
       "      <td>614.000000</td>\n",
       "      <td>614.000000</td>\n",
       "      <td>614.000000</td>\n",
       "      <td>614.000000</td>\n",
       "      <td>614.000000</td>\n",
       "      <td>614.000000</td>\n",
       "      <td>614.000000</td>\n",
       "    </tr>\n",
       "    <tr>\n",
       "      <th>mean</th>\n",
       "      <td>5403.459283</td>\n",
       "      <td>1621.245798</td>\n",
       "      <td>145.465798</td>\n",
       "      <td>342.410423</td>\n",
       "      <td>0.855049</td>\n",
       "      <td>0.182410</td>\n",
       "      <td>0.817590</td>\n",
       "      <td>0.346906</td>\n",
       "      <td>0.653094</td>\n",
       "      <td>0.083062</td>\n",
       "      <td>0.586319</td>\n",
       "      <td>0.166124</td>\n",
       "      <td>0.164495</td>\n",
       "      <td>0.781759</td>\n",
       "      <td>0.218241</td>\n",
       "      <td>0.866450</td>\n",
       "      <td>0.133550</td>\n",
       "      <td>0.291531</td>\n",
       "      <td>0.379479</td>\n",
       "      <td>0.328990</td>\n",
       "    </tr>\n",
       "    <tr>\n",
       "      <th>std</th>\n",
       "      <td>6109.041673</td>\n",
       "      <td>2926.248369</td>\n",
       "      <td>84.180967</td>\n",
       "      <td>64.428629</td>\n",
       "      <td>0.352339</td>\n",
       "      <td>0.386497</td>\n",
       "      <td>0.386497</td>\n",
       "      <td>0.476373</td>\n",
       "      <td>0.476373</td>\n",
       "      <td>0.276201</td>\n",
       "      <td>0.492894</td>\n",
       "      <td>0.372495</td>\n",
       "      <td>0.371027</td>\n",
       "      <td>0.413389</td>\n",
       "      <td>0.413389</td>\n",
       "      <td>0.340446</td>\n",
       "      <td>0.340446</td>\n",
       "      <td>0.454838</td>\n",
       "      <td>0.485653</td>\n",
       "      <td>0.470229</td>\n",
       "    </tr>\n",
       "    <tr>\n",
       "      <th>min</th>\n",
       "      <td>150.000000</td>\n",
       "      <td>0.000000</td>\n",
       "      <td>9.000000</td>\n",
       "      <td>12.000000</td>\n",
       "      <td>0.000000</td>\n",
       "      <td>0.000000</td>\n",
       "      <td>0.000000</td>\n",
       "      <td>0.000000</td>\n",
       "      <td>0.000000</td>\n",
       "      <td>0.000000</td>\n",
       "      <td>0.000000</td>\n",
       "      <td>0.000000</td>\n",
       "      <td>0.000000</td>\n",
       "      <td>0.000000</td>\n",
       "      <td>0.000000</td>\n",
       "      <td>0.000000</td>\n",
       "      <td>0.000000</td>\n",
       "      <td>0.000000</td>\n",
       "      <td>0.000000</td>\n",
       "      <td>0.000000</td>\n",
       "    </tr>\n",
       "    <tr>\n",
       "      <th>25%</th>\n",
       "      <td>2877.500000</td>\n",
       "      <td>0.000000</td>\n",
       "      <td>100.250000</td>\n",
       "      <td>360.000000</td>\n",
       "      <td>1.000000</td>\n",
       "      <td>0.000000</td>\n",
       "      <td>1.000000</td>\n",
       "      <td>0.000000</td>\n",
       "      <td>0.000000</td>\n",
       "      <td>0.000000</td>\n",
       "      <td>0.000000</td>\n",
       "      <td>0.000000</td>\n",
       "      <td>0.000000</td>\n",
       "      <td>1.000000</td>\n",
       "      <td>0.000000</td>\n",
       "      <td>1.000000</td>\n",
       "      <td>0.000000</td>\n",
       "      <td>0.000000</td>\n",
       "      <td>0.000000</td>\n",
       "      <td>0.000000</td>\n",
       "    </tr>\n",
       "    <tr>\n",
       "      <th>50%</th>\n",
       "      <td>3812.500000</td>\n",
       "      <td>1188.500000</td>\n",
       "      <td>125.000000</td>\n",
       "      <td>360.000000</td>\n",
       "      <td>1.000000</td>\n",
       "      <td>0.000000</td>\n",
       "      <td>1.000000</td>\n",
       "      <td>0.000000</td>\n",
       "      <td>1.000000</td>\n",
       "      <td>0.000000</td>\n",
       "      <td>1.000000</td>\n",
       "      <td>0.000000</td>\n",
       "      <td>0.000000</td>\n",
       "      <td>1.000000</td>\n",
       "      <td>0.000000</td>\n",
       "      <td>1.000000</td>\n",
       "      <td>0.000000</td>\n",
       "      <td>0.000000</td>\n",
       "      <td>0.000000</td>\n",
       "      <td>0.000000</td>\n",
       "    </tr>\n",
       "    <tr>\n",
       "      <th>75%</th>\n",
       "      <td>5795.000000</td>\n",
       "      <td>2297.250000</td>\n",
       "      <td>164.750000</td>\n",
       "      <td>360.000000</td>\n",
       "      <td>1.000000</td>\n",
       "      <td>0.000000</td>\n",
       "      <td>1.000000</td>\n",
       "      <td>1.000000</td>\n",
       "      <td>1.000000</td>\n",
       "      <td>0.000000</td>\n",
       "      <td>1.000000</td>\n",
       "      <td>0.000000</td>\n",
       "      <td>0.000000</td>\n",
       "      <td>1.000000</td>\n",
       "      <td>0.000000</td>\n",
       "      <td>1.000000</td>\n",
       "      <td>0.000000</td>\n",
       "      <td>1.000000</td>\n",
       "      <td>1.000000</td>\n",
       "      <td>1.000000</td>\n",
       "    </tr>\n",
       "    <tr>\n",
       "      <th>max</th>\n",
       "      <td>81000.000000</td>\n",
       "      <td>41667.000000</td>\n",
       "      <td>700.000000</td>\n",
       "      <td>480.000000</td>\n",
       "      <td>1.000000</td>\n",
       "      <td>1.000000</td>\n",
       "      <td>1.000000</td>\n",
       "      <td>1.000000</td>\n",
       "      <td>1.000000</td>\n",
       "      <td>1.000000</td>\n",
       "      <td>1.000000</td>\n",
       "      <td>1.000000</td>\n",
       "      <td>1.000000</td>\n",
       "      <td>1.000000</td>\n",
       "      <td>1.000000</td>\n",
       "      <td>1.000000</td>\n",
       "      <td>1.000000</td>\n",
       "      <td>1.000000</td>\n",
       "      <td>1.000000</td>\n",
       "      <td>1.000000</td>\n",
       "    </tr>\n",
       "  </tbody>\n",
       "</table>\n",
       "</div>"
      ],
      "text/plain": [
       "       ApplicantIncome  CoapplicantIncome  LoanAmount  Loan_Amount_Term  \\\n",
       "count       614.000000         614.000000  614.000000        614.000000   \n",
       "mean       5403.459283        1621.245798  145.465798        342.410423   \n",
       "std        6109.041673        2926.248369   84.180967         64.428629   \n",
       "min         150.000000           0.000000    9.000000         12.000000   \n",
       "25%        2877.500000           0.000000  100.250000        360.000000   \n",
       "50%        3812.500000        1188.500000  125.000000        360.000000   \n",
       "75%        5795.000000        2297.250000  164.750000        360.000000   \n",
       "max       81000.000000       41667.000000  700.000000        480.000000   \n",
       "\n",
       "       Credit_History  Gender_Female  Gender_Male  Married_No  Married_Yes  \\\n",
       "count      614.000000     614.000000   614.000000  614.000000   614.000000   \n",
       "mean         0.855049       0.182410     0.817590    0.346906     0.653094   \n",
       "std          0.352339       0.386497     0.386497    0.476373     0.476373   \n",
       "min          0.000000       0.000000     0.000000    0.000000     0.000000   \n",
       "25%          1.000000       0.000000     1.000000    0.000000     0.000000   \n",
       "50%          1.000000       0.000000     1.000000    0.000000     1.000000   \n",
       "75%          1.000000       0.000000     1.000000    1.000000     1.000000   \n",
       "max          1.000000       1.000000     1.000000    1.000000     1.000000   \n",
       "\n",
       "       Dependents_3  Dependents_0  Dependents_1  Dependents_2  \\\n",
       "count    614.000000    614.000000    614.000000    614.000000   \n",
       "mean       0.083062      0.586319      0.166124      0.164495   \n",
       "std        0.276201      0.492894      0.372495      0.371027   \n",
       "min        0.000000      0.000000      0.000000      0.000000   \n",
       "25%        0.000000      0.000000      0.000000      0.000000   \n",
       "50%        0.000000      1.000000      0.000000      0.000000   \n",
       "75%        0.000000      1.000000      0.000000      0.000000   \n",
       "max        1.000000      1.000000      1.000000      1.000000   \n",
       "\n",
       "       Education_Graduate  Education_Not Graduate  Self_Employed_No  \\\n",
       "count          614.000000              614.000000        614.000000   \n",
       "mean             0.781759                0.218241          0.866450   \n",
       "std              0.413389                0.413389          0.340446   \n",
       "min              0.000000                0.000000          0.000000   \n",
       "25%              1.000000                0.000000          1.000000   \n",
       "50%              1.000000                0.000000          1.000000   \n",
       "75%              1.000000                0.000000          1.000000   \n",
       "max              1.000000                1.000000          1.000000   \n",
       "\n",
       "       Self_Employed_Yes  Property_Area_Rural  Property_Area_Semiurban  \\\n",
       "count         614.000000           614.000000               614.000000   \n",
       "mean            0.133550             0.291531                 0.379479   \n",
       "std             0.340446             0.454838                 0.485653   \n",
       "min             0.000000             0.000000                 0.000000   \n",
       "25%             0.000000             0.000000                 0.000000   \n",
       "50%             0.000000             0.000000                 0.000000   \n",
       "75%             0.000000             1.000000                 1.000000   \n",
       "max             1.000000             1.000000                 1.000000   \n",
       "\n",
       "       Property_Area_Urban  \n",
       "count           614.000000  \n",
       "mean              0.328990  \n",
       "std               0.470229  \n",
       "min               0.000000  \n",
       "25%               0.000000  \n",
       "50%               0.000000  \n",
       "75%               1.000000  \n",
       "max               1.000000  "
      ]
     },
     "execution_count": 71,
     "metadata": {},
     "output_type": "execute_result"
    }
   ],
   "source": [
    "X.describe()"
   ]
  },
  {
   "cell_type": "code",
   "execution_count": 72,
   "metadata": {},
   "outputs": [],
   "source": [
    "# Splitting datascet into training and validation sets\n",
    "from sklearn.model_selection import train_test_split\n",
    "X_train, X_test, y_train, y_test = train_test_split(X,y,test_size = 0.3)"
   ]
  },
  {
   "cell_type": "code",
   "execution_count": 73,
   "metadata": {},
   "outputs": [],
   "source": [
    "from sklearn.linear_model import LogisticRegression\n",
    "from sklearn.metrics import accuracy_score"
   ]
  },
  {
   "cell_type": "code",
   "execution_count": 74,
   "metadata": {},
   "outputs": [],
   "source": [
    "LR = LogisticRegression()"
   ]
  },
  {
   "cell_type": "code",
   "execution_count": 75,
   "metadata": {},
   "outputs": [
    {
     "name": "stderr",
     "output_type": "stream",
     "text": [
      "D:\\Anaconda Navigator\\lib\\site-packages\\sklearn\\linear_model\\_logistic.py:940: ConvergenceWarning: lbfgs failed to converge (status=1):\n",
      "STOP: TOTAL NO. of ITERATIONS REACHED LIMIT.\n",
      "\n",
      "Increase the number of iterations (max_iter) or scale the data as shown in:\n",
      "    https://scikit-learn.org/stable/modules/preprocessing.html\n",
      "Please also refer to the documentation for alternative solver options:\n",
      "    https://scikit-learn.org/stable/modules/linear_model.html#logistic-regression\n",
      "  extra_warning_msg=_LOGISTIC_SOLVER_CONVERGENCE_MSG)\n"
     ]
    },
    {
     "data": {
      "text/plain": [
       "LogisticRegression(C=1.0, class_weight=None, dual=False, fit_intercept=True,\n",
       "                   intercept_scaling=1, l1_ratio=None, max_iter=100,\n",
       "                   multi_class='auto', n_jobs=None, penalty='l2',\n",
       "                   random_state=None, solver='lbfgs', tol=0.0001, verbose=0,\n",
       "                   warm_start=False)"
      ]
     },
     "execution_count": 75,
     "metadata": {},
     "output_type": "execute_result"
    }
   ],
   "source": [
    "LR.fit(X_train,y_train)"
   ]
  },
  {
   "cell_type": "code",
   "execution_count": 76,
   "metadata": {},
   "outputs": [],
   "source": [
    "pred_y = LR.predict(X_test)"
   ]
  },
  {
   "cell_type": "code",
   "execution_count": 77,
   "metadata": {},
   "outputs": [
    {
     "data": {
      "text/plain": [
       "array([0, 1, 1, 1, 1, 1, 1, 1, 1, 1, 1, 1, 1, 0, 1, 0, 1, 1, 1, 0, 1, 1,\n",
       "       1, 1, 1, 1, 1, 1, 1, 1, 1, 1, 1, 1, 1, 1, 1, 1, 1, 0, 0, 1, 1, 0,\n",
       "       1, 1, 0, 0, 1, 0, 0, 1, 1, 1, 1, 1, 1, 1, 1, 1, 1, 0, 1, 1, 1, 1,\n",
       "       1, 1, 1, 1, 1, 1, 1, 1, 1, 1, 1, 1, 1, 0, 1, 1, 0, 1, 1, 1, 1, 0,\n",
       "       1, 1, 0, 1, 1, 1, 1, 1, 0, 1, 0, 1, 1, 1, 1, 1, 1, 1, 1, 1, 1, 0,\n",
       "       1, 1, 1, 1, 0, 1, 1, 1, 1, 1, 0, 1, 0, 1, 0, 1, 0, 1, 1, 1, 1, 0,\n",
       "       1, 1, 1, 0, 1, 1, 1, 1, 1, 1, 1, 1, 1, 0, 1, 1, 1, 0, 1, 0, 1, 0,\n",
       "       1, 1, 1, 0, 1, 1, 1, 1, 0, 1, 1, 1, 1, 1, 1, 0, 1, 1, 1, 1, 1, 1,\n",
       "       1, 1, 1, 1, 1, 1, 1, 1, 1], dtype=int64)"
      ]
     },
     "execution_count": 77,
     "metadata": {},
     "output_type": "execute_result"
    }
   ],
   "source": [
    "pred_y"
   ]
  },
  {
   "cell_type": "code",
   "execution_count": 78,
   "metadata": {},
   "outputs": [
    {
     "data": {
      "text/plain": [
       "0.8108108108108109"
      ]
     },
     "execution_count": 78,
     "metadata": {},
     "output_type": "execute_result"
    }
   ],
   "source": [
    "accuracy_score(y_test,pred_y) # Our accuracy score is around 83% which is pretty good."
   ]
  },
  {
   "cell_type": "code",
   "execution_count": null,
   "metadata": {},
   "outputs": [],
   "source": []
  },
  {
   "cell_type": "markdown",
   "metadata": {},
   "source": [
    "# Logistic regression with stratified k-folds cross validation"
   ]
  },
  {
   "cell_type": "code",
   "execution_count": 80,
   "metadata": {},
   "outputs": [],
   "source": [
    "from sklearn.model_selection import StratifiedKFold"
   ]
  },
  {
   "cell_type": "code",
   "execution_count": 94,
   "metadata": {},
   "outputs": [],
   "source": [
    "k = StratifiedKFold(n_splits=5, shuffle=True)"
   ]
  },
  {
   "cell_type": "code",
   "execution_count": 93,
   "metadata": {},
   "outputs": [
    {
     "name": "stdout",
     "output_type": "stream",
     "text": [
      "(array([  0,   1,   2,   3,   5,   6,   7,   8,  12,  14,  15,  16,  17,\n",
      "        18,  19,  20,  21,  22,  24,  25,  27,  28,  29,  30,  31,  33,\n",
      "        34,  35,  36,  37,  38,  39,  40,  41,  42,  43,  45,  46,  47,\n",
      "        48,  49,  52,  53,  55,  56,  57,  58,  59,  60,  62,  64,  65,\n",
      "        66,  67,  68,  70,  72,  73,  74,  75,  76,  77,  78,  79,  80,\n",
      "        81,  82,  83,  84,  86,  87,  88,  89,  90,  91,  92,  93,  94,\n",
      "        95,  96,  97,  98,  99, 100, 102, 103, 104, 106, 107, 108, 109,\n",
      "       110, 111, 112, 113, 115, 116, 117, 118, 119, 120, 121, 122, 123,\n",
      "       124, 125, 126, 127, 128, 129, 130, 132, 133, 134, 135, 136, 137,\n",
      "       138, 139, 140, 141, 142, 144, 146, 147, 149, 150, 152, 153, 154,\n",
      "       155, 157, 158, 160, 161, 162, 164, 165, 166, 167, 168, 171, 173,\n",
      "       175, 177, 180, 181, 182, 183, 185, 186, 187, 189, 190, 191, 192,\n",
      "       193, 195, 196, 197, 198, 199, 200, 202, 203, 204, 205, 206, 208,\n",
      "       209, 210, 211, 213, 214, 215, 216, 217, 218, 219, 220, 221, 222,\n",
      "       224, 225, 226, 227, 228, 229, 231, 232, 233, 234, 235, 236, 237,\n",
      "       238, 239, 241, 243, 244, 245, 246, 247, 248, 249, 250, 252, 253,\n",
      "       254, 255, 257, 260, 261, 262, 263, 264, 267, 268, 269, 270, 271,\n",
      "       272, 276, 277, 279, 280, 282, 284, 285, 286, 287, 288, 289, 290,\n",
      "       291, 292, 294, 295, 296, 297, 298, 299, 300, 301, 302, 303, 304,\n",
      "       305, 306, 307, 308, 309, 310, 312, 314, 315, 316, 318, 319, 320,\n",
      "       321, 322, 323, 325, 326, 327, 329, 330, 331, 333, 334, 335, 336,\n",
      "       338, 340, 341, 342, 343, 344, 345, 346, 347, 348, 349, 350, 352,\n",
      "       353, 354, 355, 356, 358, 359, 360, 363, 364, 365, 366, 368, 370,\n",
      "       371, 372, 374, 375, 376, 377, 378, 380, 381, 382, 383, 384, 388,\n",
      "       389, 390, 391, 392, 393, 394, 396, 397, 398, 399, 400, 402, 403,\n",
      "       405, 406, 407, 408, 409, 411, 412, 413, 414, 416, 417, 418, 419,\n",
      "       420, 421, 423, 426, 427, 429, 431, 432, 434, 436, 437, 440, 441,\n",
      "       442, 445, 446, 448, 449, 450, 451, 452, 453, 454, 455, 456, 457,\n",
      "       458, 460, 461, 463, 465, 466, 467, 468, 469, 470, 471, 472, 473,\n",
      "       474, 475, 477, 478, 479, 480, 481, 483, 484, 485, 488, 489, 491,\n",
      "       495, 496, 497, 498, 499, 501, 502, 503, 504, 505, 506, 507, 508,\n",
      "       509, 510, 512, 514, 516, 517, 520, 521, 522, 523, 524, 525, 526,\n",
      "       527, 528, 529, 530, 531, 532, 533, 534, 535, 536, 537, 538, 539,\n",
      "       540, 541, 542, 545, 546, 547, 548, 549, 550, 551, 552, 553, 554,\n",
      "       555, 556, 557, 560, 561, 563, 564, 565, 566, 567, 568, 569, 571,\n",
      "       572, 573, 574, 575, 576, 577, 578, 579, 580, 581, 582, 583, 584,\n",
      "       585, 586, 587, 588, 589, 590, 591, 593, 595, 596, 597, 598, 599,\n",
      "       600, 601, 602, 603, 604, 606, 607, 609, 610, 612]), array([  4,   9,  10,  11,  13,  23,  26,  32,  44,  50,  51,  54,  61,\n",
      "        63,  69,  71,  85, 101, 105, 114, 131, 143, 145, 148, 151, 156,\n",
      "       159, 163, 169, 170, 172, 174, 176, 178, 179, 184, 188, 194, 201,\n",
      "       207, 212, 223, 230, 240, 242, 251, 256, 258, 259, 265, 266, 273,\n",
      "       274, 275, 278, 281, 283, 293, 311, 313, 317, 324, 328, 332, 337,\n",
      "       339, 351, 357, 361, 362, 367, 369, 373, 379, 385, 386, 387, 395,\n",
      "       401, 404, 410, 415, 422, 424, 425, 428, 430, 433, 435, 438, 439,\n",
      "       443, 444, 447, 459, 462, 464, 476, 482, 486, 487, 490, 492, 493,\n",
      "       494, 500, 511, 513, 515, 518, 519, 543, 544, 558, 559, 562, 570,\n",
      "       592, 594, 605, 608, 611, 613]))\n",
      "(array([  2,   3,   4,   5,   7,   8,   9,  10,  11,  12,  13,  15,  17,\n",
      "        18,  19,  20,  21,  23,  24,  25,  26,  27,  29,  30,  31,  32,\n",
      "        33,  34,  37,  38,  41,  42,  44,  45,  46,  47,  48,  50,  51,\n",
      "        52,  54,  56,  57,  59,  60,  61,  62,  63,  64,  65,  66,  67,\n",
      "        69,  70,  71,  72,  73,  74,  75,  76,  78,  79,  80,  81,  83,\n",
      "        84,  85,  86,  89,  90,  91,  93,  94,  95,  97,  98, 100, 101,\n",
      "       102, 103, 104, 105, 107, 109, 110, 111, 112, 113, 114, 115, 116,\n",
      "       117, 118, 121, 122, 124, 125, 126, 127, 128, 130, 131, 132, 135,\n",
      "       136, 137, 139, 141, 142, 143, 144, 145, 146, 148, 149, 150, 151,\n",
      "       153, 155, 156, 157, 159, 160, 161, 162, 163, 164, 165, 167, 169,\n",
      "       170, 171, 172, 173, 174, 175, 176, 177, 178, 179, 181, 182, 183,\n",
      "       184, 185, 186, 187, 188, 189, 190, 191, 192, 193, 194, 195, 196,\n",
      "       198, 199, 200, 201, 202, 203, 204, 205, 206, 207, 208, 209, 210,\n",
      "       211, 212, 217, 218, 219, 220, 221, 222, 223, 225, 228, 230, 231,\n",
      "       232, 233, 234, 235, 236, 237, 238, 240, 241, 242, 243, 246, 249,\n",
      "       250, 251, 253, 254, 256, 257, 258, 259, 260, 261, 262, 263, 265,\n",
      "       266, 267, 269, 270, 272, 273, 274, 275, 276, 277, 278, 281, 283,\n",
      "       284, 285, 286, 288, 290, 291, 292, 293, 296, 297, 299, 300, 302,\n",
      "       303, 304, 305, 308, 309, 310, 311, 312, 313, 314, 315, 316, 317,\n",
      "       318, 319, 321, 322, 323, 324, 325, 326, 328, 330, 331, 332, 333,\n",
      "       334, 337, 338, 339, 340, 342, 343, 344, 345, 346, 347, 348, 349,\n",
      "       351, 353, 354, 355, 356, 357, 359, 360, 361, 362, 363, 364, 367,\n",
      "       368, 369, 370, 371, 372, 373, 374, 375, 376, 377, 379, 380, 381,\n",
      "       383, 385, 386, 387, 388, 389, 390, 391, 393, 394, 395, 396, 397,\n",
      "       398, 399, 401, 402, 404, 405, 406, 408, 410, 411, 413, 414, 415,\n",
      "       416, 417, 419, 420, 421, 422, 423, 424, 425, 426, 427, 428, 429,\n",
      "       430, 431, 432, 433, 434, 435, 436, 437, 438, 439, 440, 441, 443,\n",
      "       444, 445, 446, 447, 448, 450, 451, 452, 453, 454, 455, 456, 457,\n",
      "       458, 459, 460, 462, 463, 464, 466, 468, 469, 470, 472, 475, 476,\n",
      "       477, 478, 479, 480, 481, 482, 483, 485, 486, 487, 488, 489, 490,\n",
      "       491, 492, 493, 494, 496, 497, 499, 500, 501, 503, 504, 505, 506,\n",
      "       507, 508, 509, 510, 511, 513, 514, 515, 516, 517, 518, 519, 520,\n",
      "       522, 523, 525, 526, 527, 528, 529, 530, 533, 534, 537, 538, 539,\n",
      "       540, 541, 543, 544, 546, 547, 548, 551, 552, 553, 554, 555, 556,\n",
      "       557, 558, 559, 560, 561, 562, 564, 565, 566, 567, 568, 569, 570,\n",
      "       571, 572, 573, 574, 575, 576, 577, 579, 580, 582, 583, 584, 585,\n",
      "       586, 588, 589, 590, 591, 592, 594, 595, 596, 597, 598, 599, 600,\n",
      "       601, 602, 604, 605, 606, 607, 608, 611, 612, 613]), array([  0,   1,   6,  14,  16,  22,  28,  35,  36,  39,  40,  43,  49,\n",
      "        53,  55,  58,  68,  77,  82,  87,  88,  92,  96,  99, 106, 108,\n",
      "       119, 120, 123, 129, 133, 134, 138, 140, 147, 152, 154, 158, 166,\n",
      "       168, 180, 197, 213, 214, 215, 216, 224, 226, 227, 229, 239, 244,\n",
      "       245, 247, 248, 252, 255, 264, 268, 271, 279, 280, 282, 287, 289,\n",
      "       294, 295, 298, 301, 306, 307, 320, 327, 329, 335, 336, 341, 350,\n",
      "       352, 358, 365, 366, 378, 382, 384, 392, 400, 403, 407, 409, 412,\n",
      "       418, 442, 449, 461, 465, 467, 471, 473, 474, 484, 495, 498, 502,\n",
      "       512, 521, 524, 531, 532, 535, 536, 542, 545, 549, 550, 563, 578,\n",
      "       581, 587, 593, 603, 609, 610]))\n",
      "(array([  0,   1,   2,   3,   4,   6,   8,   9,  10,  11,  13,  14,  15,\n",
      "        16,  18,  19,  20,  21,  22,  23,  24,  25,  26,  28,  29,  30,\n",
      "        31,  32,  33,  35,  36,  37,  38,  39,  40,  41,  43,  44,  45,\n",
      "        46,  49,  50,  51,  52,  53,  54,  55,  56,  57,  58,  61,  62,\n",
      "        63,  65,  66,  67,  68,  69,  70,  71,  74,  76,  77,  78,  80,\n",
      "        82,  83,  84,  85,  86,  87,  88,  89,  90,  92,  94,  95,  96,\n",
      "        98,  99, 100, 101, 102, 103, 104, 105, 106, 108, 110, 114, 115,\n",
      "       118, 119, 120, 121, 123, 124, 127, 129, 130, 131, 133, 134, 135,\n",
      "       136, 137, 138, 139, 140, 141, 143, 145, 146, 147, 148, 149, 151,\n",
      "       152, 153, 154, 156, 158, 159, 160, 161, 162, 163, 165, 166, 167,\n",
      "       168, 169, 170, 171, 172, 173, 174, 175, 176, 178, 179, 180, 181,\n",
      "       182, 183, 184, 185, 187, 188, 189, 190, 191, 194, 197, 198, 201,\n",
      "       202, 205, 206, 207, 208, 211, 212, 213, 214, 215, 216, 220, 221,\n",
      "       222, 223, 224, 226, 227, 228, 229, 230, 232, 233, 235, 236, 237,\n",
      "       238, 239, 240, 241, 242, 244, 245, 246, 247, 248, 249, 251, 252,\n",
      "       255, 256, 258, 259, 261, 262, 263, 264, 265, 266, 267, 268, 269,\n",
      "       270, 271, 273, 274, 275, 277, 278, 279, 280, 281, 282, 283, 284,\n",
      "       285, 286, 287, 288, 289, 290, 291, 292, 293, 294, 295, 296, 297,\n",
      "       298, 299, 300, 301, 302, 304, 305, 306, 307, 309, 310, 311, 312,\n",
      "       313, 314, 316, 317, 319, 320, 321, 323, 324, 327, 328, 329, 330,\n",
      "       331, 332, 335, 336, 337, 338, 339, 340, 341, 342, 343, 345, 346,\n",
      "       347, 349, 350, 351, 352, 353, 354, 355, 356, 357, 358, 359, 360,\n",
      "       361, 362, 363, 364, 365, 366, 367, 368, 369, 370, 373, 374, 375,\n",
      "       376, 377, 378, 379, 381, 382, 383, 384, 385, 386, 387, 390, 392,\n",
      "       395, 396, 397, 398, 400, 401, 403, 404, 405, 406, 407, 409, 410,\n",
      "       411, 412, 413, 414, 415, 416, 417, 418, 420, 422, 423, 424, 425,\n",
      "       426, 427, 428, 429, 430, 431, 433, 434, 435, 436, 437, 438, 439,\n",
      "       441, 442, 443, 444, 446, 447, 448, 449, 451, 452, 453, 458, 459,\n",
      "       460, 461, 462, 464, 465, 466, 467, 469, 471, 473, 474, 475, 476,\n",
      "       477, 478, 479, 482, 483, 484, 485, 486, 487, 489, 490, 492, 493,\n",
      "       494, 495, 496, 497, 498, 499, 500, 501, 502, 505, 506, 507, 508,\n",
      "       509, 510, 511, 512, 513, 514, 515, 516, 517, 518, 519, 521, 522,\n",
      "       523, 524, 525, 526, 528, 529, 530, 531, 532, 533, 534, 535, 536,\n",
      "       538, 539, 540, 541, 542, 543, 544, 545, 547, 548, 549, 550, 551,\n",
      "       552, 554, 555, 556, 557, 558, 559, 560, 561, 562, 563, 564, 565,\n",
      "       566, 568, 569, 570, 574, 576, 578, 579, 580, 581, 582, 583, 584,\n",
      "       585, 586, 587, 590, 591, 592, 593, 594, 595, 597, 598, 601, 602,\n",
      "       603, 604, 605, 606, 608, 609, 610, 611, 612, 613]), array([  5,   7,  12,  17,  27,  34,  42,  47,  48,  59,  60,  64,  72,\n",
      "        73,  75,  79,  81,  91,  93,  97, 107, 109, 111, 112, 113, 116,\n",
      "       117, 122, 125, 126, 128, 132, 142, 144, 150, 155, 157, 164, 177,\n",
      "       186, 192, 193, 195, 196, 199, 200, 203, 204, 209, 210, 217, 218,\n",
      "       219, 225, 231, 234, 243, 250, 253, 254, 257, 260, 272, 276, 303,\n",
      "       308, 315, 318, 322, 325, 326, 333, 334, 344, 348, 371, 372, 380,\n",
      "       388, 389, 391, 393, 394, 399, 402, 408, 419, 421, 432, 440, 445,\n",
      "       450, 454, 455, 456, 457, 463, 468, 470, 472, 480, 481, 488, 491,\n",
      "       503, 504, 520, 527, 537, 546, 553, 567, 571, 572, 573, 575, 577,\n",
      "       588, 589, 596, 599, 600, 607]))\n",
      "(array([  0,   1,   2,   4,   5,   6,   7,   9,  10,  11,  12,  13,  14,\n",
      "        16,  17,  19,  21,  22,  23,  25,  26,  27,  28,  29,  31,  32,\n",
      "        33,  34,  35,  36,  37,  38,  39,  40,  41,  42,  43,  44,  45,\n",
      "        47,  48,  49,  50,  51,  52,  53,  54,  55,  56,  58,  59,  60,\n",
      "        61,  63,  64,  65,  66,  68,  69,  71,  72,  73,  75,  76,  77,\n",
      "        79,  81,  82,  85,  87,  88,  89,  90,  91,  92,  93,  95,  96,\n",
      "        97,  98,  99, 100, 101, 102, 103, 105, 106, 107, 108, 109, 110,\n",
      "       111, 112, 113, 114, 116, 117, 118, 119, 120, 121, 122, 123, 125,\n",
      "       126, 127, 128, 129, 131, 132, 133, 134, 137, 138, 140, 142, 143,\n",
      "       144, 145, 147, 148, 149, 150, 151, 152, 154, 155, 156, 157, 158,\n",
      "       159, 162, 163, 164, 166, 168, 169, 170, 172, 174, 175, 176, 177,\n",
      "       178, 179, 180, 182, 183, 184, 186, 187, 188, 192, 193, 194, 195,\n",
      "       196, 197, 199, 200, 201, 203, 204, 205, 207, 209, 210, 211, 212,\n",
      "       213, 214, 215, 216, 217, 218, 219, 220, 221, 222, 223, 224, 225,\n",
      "       226, 227, 228, 229, 230, 231, 234, 235, 239, 240, 241, 242, 243,\n",
      "       244, 245, 246, 247, 248, 249, 250, 251, 252, 253, 254, 255, 256,\n",
      "       257, 258, 259, 260, 261, 262, 263, 264, 265, 266, 267, 268, 269,\n",
      "       270, 271, 272, 273, 274, 275, 276, 278, 279, 280, 281, 282, 283,\n",
      "       284, 287, 288, 289, 290, 292, 293, 294, 295, 296, 297, 298, 300,\n",
      "       301, 303, 305, 306, 307, 308, 309, 310, 311, 312, 313, 315, 317,\n",
      "       318, 320, 321, 322, 324, 325, 326, 327, 328, 329, 330, 331, 332,\n",
      "       333, 334, 335, 336, 337, 339, 340, 341, 342, 343, 344, 345, 346,\n",
      "       348, 350, 351, 352, 353, 357, 358, 360, 361, 362, 363, 365, 366,\n",
      "       367, 368, 369, 371, 372, 373, 376, 378, 379, 380, 381, 382, 383,\n",
      "       384, 385, 386, 387, 388, 389, 390, 391, 392, 393, 394, 395, 397,\n",
      "       399, 400, 401, 402, 403, 404, 405, 407, 408, 409, 410, 412, 413,\n",
      "       414, 415, 416, 418, 419, 421, 422, 424, 425, 426, 428, 429, 430,\n",
      "       431, 432, 433, 434, 435, 436, 438, 439, 440, 441, 442, 443, 444,\n",
      "       445, 447, 448, 449, 450, 451, 453, 454, 455, 456, 457, 459, 461,\n",
      "       462, 463, 464, 465, 466, 467, 468, 469, 470, 471, 472, 473, 474,\n",
      "       475, 476, 477, 480, 481, 482, 484, 486, 487, 488, 489, 490, 491,\n",
      "       492, 493, 494, 495, 496, 497, 498, 500, 502, 503, 504, 505, 509,\n",
      "       510, 511, 512, 513, 514, 515, 516, 518, 519, 520, 521, 524, 525,\n",
      "       527, 528, 530, 531, 532, 533, 535, 536, 537, 538, 540, 541, 542,\n",
      "       543, 544, 545, 546, 549, 550, 551, 553, 554, 558, 559, 560, 561,\n",
      "       562, 563, 566, 567, 570, 571, 572, 573, 574, 575, 576, 577, 578,\n",
      "       580, 581, 587, 588, 589, 591, 592, 593, 594, 596, 599, 600, 602,\n",
      "       603, 604, 605, 607, 608, 609, 610, 611, 612, 613]), array([  3,   8,  15,  18,  20,  24,  30,  46,  57,  62,  67,  70,  74,\n",
      "        78,  80,  83,  84,  86,  94, 104, 115, 124, 130, 135, 136, 139,\n",
      "       141, 146, 153, 160, 161, 165, 167, 171, 173, 181, 185, 189, 190,\n",
      "       191, 198, 202, 206, 208, 232, 233, 236, 237, 238, 277, 285, 286,\n",
      "       291, 299, 302, 304, 314, 316, 319, 323, 338, 347, 349, 354, 355,\n",
      "       356, 359, 364, 370, 374, 375, 377, 396, 398, 406, 411, 417, 420,\n",
      "       423, 427, 437, 446, 452, 458, 460, 478, 479, 483, 485, 499, 501,\n",
      "       506, 507, 508, 517, 522, 523, 526, 529, 534, 539, 547, 548, 552,\n",
      "       555, 556, 557, 564, 565, 568, 569, 579, 582, 583, 584, 585, 586,\n",
      "       590, 595, 597, 598, 601, 606]))\n",
      "(array([  0,   1,   3,   4,   5,   6,   7,   8,   9,  10,  11,  12,  13,\n",
      "        14,  15,  16,  17,  18,  20,  22,  23,  24,  26,  27,  28,  30,\n",
      "        32,  34,  35,  36,  39,  40,  42,  43,  44,  46,  47,  48,  49,\n",
      "        50,  51,  53,  54,  55,  57,  58,  59,  60,  61,  62,  63,  64,\n",
      "        67,  68,  69,  70,  71,  72,  73,  74,  75,  77,  78,  79,  80,\n",
      "        81,  82,  83,  84,  85,  86,  87,  88,  91,  92,  93,  94,  96,\n",
      "        97,  99, 101, 104, 105, 106, 107, 108, 109, 111, 112, 113, 114,\n",
      "       115, 116, 117, 119, 120, 122, 123, 124, 125, 126, 128, 129, 130,\n",
      "       131, 132, 133, 134, 135, 136, 138, 139, 140, 141, 142, 143, 144,\n",
      "       145, 146, 147, 148, 150, 151, 152, 153, 154, 155, 156, 157, 158,\n",
      "       159, 160, 161, 163, 164, 165, 166, 167, 168, 169, 170, 171, 172,\n",
      "       173, 174, 176, 177, 178, 179, 180, 181, 184, 185, 186, 188, 189,\n",
      "       190, 191, 192, 193, 194, 195, 196, 197, 198, 199, 200, 201, 202,\n",
      "       203, 204, 206, 207, 208, 209, 210, 212, 213, 214, 215, 216, 217,\n",
      "       218, 219, 223, 224, 225, 226, 227, 229, 230, 231, 232, 233, 234,\n",
      "       236, 237, 238, 239, 240, 242, 243, 244, 245, 247, 248, 250, 251,\n",
      "       252, 253, 254, 255, 256, 257, 258, 259, 260, 264, 265, 266, 268,\n",
      "       271, 272, 273, 274, 275, 276, 277, 278, 279, 280, 281, 282, 283,\n",
      "       285, 286, 287, 289, 291, 293, 294, 295, 298, 299, 301, 302, 303,\n",
      "       304, 306, 307, 308, 311, 313, 314, 315, 316, 317, 318, 319, 320,\n",
      "       322, 323, 324, 325, 326, 327, 328, 329, 332, 333, 334, 335, 336,\n",
      "       337, 338, 339, 341, 344, 347, 348, 349, 350, 351, 352, 354, 355,\n",
      "       356, 357, 358, 359, 361, 362, 364, 365, 366, 367, 369, 370, 371,\n",
      "       372, 373, 374, 375, 377, 378, 379, 380, 382, 384, 385, 386, 387,\n",
      "       388, 389, 391, 392, 393, 394, 395, 396, 398, 399, 400, 401, 402,\n",
      "       403, 404, 406, 407, 408, 409, 410, 411, 412, 415, 417, 418, 419,\n",
      "       420, 421, 422, 423, 424, 425, 427, 428, 430, 432, 433, 435, 437,\n",
      "       438, 439, 440, 442, 443, 444, 445, 446, 447, 449, 450, 452, 454,\n",
      "       455, 456, 457, 458, 459, 460, 461, 462, 463, 464, 465, 467, 468,\n",
      "       470, 471, 472, 473, 474, 476, 478, 479, 480, 481, 482, 483, 484,\n",
      "       485, 486, 487, 488, 490, 491, 492, 493, 494, 495, 498, 499, 500,\n",
      "       501, 502, 503, 504, 506, 507, 508, 511, 512, 513, 515, 517, 518,\n",
      "       519, 520, 521, 522, 523, 524, 526, 527, 529, 531, 532, 534, 535,\n",
      "       536, 537, 539, 542, 543, 544, 545, 546, 547, 548, 549, 550, 552,\n",
      "       553, 555, 556, 557, 558, 559, 562, 563, 564, 565, 567, 568, 569,\n",
      "       570, 571, 572, 573, 575, 577, 578, 579, 581, 582, 583, 584, 585,\n",
      "       586, 587, 588, 589, 590, 592, 593, 594, 595, 596, 597, 598, 599,\n",
      "       600, 601, 603, 605, 606, 607, 608, 609, 610, 611, 613]), array([  2,  19,  21,  25,  29,  31,  33,  37,  38,  41,  45,  52,  56,\n",
      "        65,  66,  76,  89,  90,  95,  98, 100, 102, 103, 110, 118, 121,\n",
      "       127, 137, 149, 162, 175, 182, 183, 187, 205, 211, 220, 221, 222,\n",
      "       228, 235, 241, 246, 249, 261, 262, 263, 267, 269, 270, 284, 288,\n",
      "       290, 292, 296, 297, 300, 305, 309, 310, 312, 321, 330, 331, 340,\n",
      "       342, 343, 345, 346, 353, 360, 363, 368, 376, 381, 383, 390, 397,\n",
      "       405, 413, 414, 416, 426, 429, 431, 434, 436, 441, 448, 451, 453,\n",
      "       466, 469, 475, 477, 489, 496, 497, 505, 509, 510, 514, 516, 525,\n",
      "       528, 530, 533, 538, 540, 541, 551, 554, 560, 561, 566, 574, 576,\n",
      "       580, 591, 602, 604, 612]))\n"
     ]
    }
   ],
   "source": [
    "for i in k.split(X,y):\n",
    "    print(i)"
   ]
  },
  {
   "cell_type": "code",
   "execution_count": 99,
   "metadata": {},
   "outputs": [
    {
     "name": "stdout",
     "output_type": "stream",
     "text": [
      "\n",
      "1 of kfold 5\n",
      "accuracy_score 0.7560975609756098\n",
      "\n",
      "2 of kfold 5\n",
      "accuracy_score 0.8292682926829268\n",
      "\n",
      "3 of kfold 5\n",
      "accuracy_score 0.8048780487804879\n",
      "\n",
      "4 of kfold 5\n",
      "accuracy_score 0.8048780487804879\n",
      "\n",
      "5 of kfold 5\n",
      "accuracy_score 0.8114754098360656\n"
     ]
    },
    {
     "name": "stderr",
     "output_type": "stream",
     "text": [
      "D:\\Anaconda Navigator\\lib\\site-packages\\sklearn\\linear_model\\_logistic.py:940: ConvergenceWarning: lbfgs failed to converge (status=1):\n",
      "STOP: TOTAL NO. of ITERATIONS REACHED LIMIT.\n",
      "\n",
      "Increase the number of iterations (max_iter) or scale the data as shown in:\n",
      "    https://scikit-learn.org/stable/modules/preprocessing.html\n",
      "Please also refer to the documentation for alternative solver options:\n",
      "    https://scikit-learn.org/stable/modules/linear_model.html#logistic-regression\n",
      "  extra_warning_msg=_LOGISTIC_SOLVER_CONVERGENCE_MSG)\n",
      "D:\\Anaconda Navigator\\lib\\site-packages\\sklearn\\linear_model\\_logistic.py:940: ConvergenceWarning: lbfgs failed to converge (status=1):\n",
      "STOP: TOTAL NO. of ITERATIONS REACHED LIMIT.\n",
      "\n",
      "Increase the number of iterations (max_iter) or scale the data as shown in:\n",
      "    https://scikit-learn.org/stable/modules/preprocessing.html\n",
      "Please also refer to the documentation for alternative solver options:\n",
      "    https://scikit-learn.org/stable/modules/linear_model.html#logistic-regression\n",
      "  extra_warning_msg=_LOGISTIC_SOLVER_CONVERGENCE_MSG)\n",
      "D:\\Anaconda Navigator\\lib\\site-packages\\sklearn\\linear_model\\_logistic.py:940: ConvergenceWarning: lbfgs failed to converge (status=1):\n",
      "STOP: TOTAL NO. of ITERATIONS REACHED LIMIT.\n",
      "\n",
      "Increase the number of iterations (max_iter) or scale the data as shown in:\n",
      "    https://scikit-learn.org/stable/modules/preprocessing.html\n",
      "Please also refer to the documentation for alternative solver options:\n",
      "    https://scikit-learn.org/stable/modules/linear_model.html#logistic-regression\n",
      "  extra_warning_msg=_LOGISTIC_SOLVER_CONVERGENCE_MSG)\n",
      "D:\\Anaconda Navigator\\lib\\site-packages\\sklearn\\linear_model\\_logistic.py:940: ConvergenceWarning: lbfgs failed to converge (status=1):\n",
      "STOP: TOTAL NO. of ITERATIONS REACHED LIMIT.\n",
      "\n",
      "Increase the number of iterations (max_iter) or scale the data as shown in:\n",
      "    https://scikit-learn.org/stable/modules/preprocessing.html\n",
      "Please also refer to the documentation for alternative solver options:\n",
      "    https://scikit-learn.org/stable/modules/linear_model.html#logistic-regression\n",
      "  extra_warning_msg=_LOGISTIC_SOLVER_CONVERGENCE_MSG)\n"
     ]
    }
   ],
   "source": [
    "i=1\n",
    "for train_index, test_index in k.split(X,y):\n",
    "    print('\\n{} of kfold {}'.format(i,k.n_splits))\n",
    "    i+=1\n",
    "    \n",
    "    xtr, xvl = X.loc[train_index], X.loc[test_index]\n",
    "    ytr, yvl = y.loc[train_index], y.loc[test_index]\n",
    "\n",
    "    model = LogisticRegression()\n",
    "    model.fit(xtr,ytr)\n",
    "\n",
    "    pred_test = model.predict(xvl)\n",
    "\n",
    "    score = accuracy_score(yvl, pred_test)\n",
    "\n",
    "    print('accuracy_score', score)\n",
    "\n",
    "\n",
    "\n",
    "pred_test = model.predict(test)\n",
    "\n",
    "pred = model.predict_proba(xvl)[:,1]  # We have got the mean accuracy of the new model as 81%, same as before! "
   ]
  },
  {
   "cell_type": "code",
   "execution_count": null,
   "metadata": {},
   "outputs": [],
   "source": []
  }
 ],
 "metadata": {
  "kernelspec": {
   "display_name": "Python 3",
   "language": "python",
   "name": "python3"
  },
  "language_info": {
   "codemirror_mode": {
    "name": "ipython",
    "version": 3
   },
   "file_extension": ".py",
   "mimetype": "text/x-python",
   "name": "python",
   "nbconvert_exporter": "python",
   "pygments_lexer": "ipython3",
   "version": "3.7.6"
  }
 },
 "nbformat": 4,
 "nbformat_minor": 4
}
